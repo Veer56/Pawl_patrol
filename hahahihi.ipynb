{
 "cells": [
  {
   "cell_type": "markdown",
   "id": "a46a8f19-cd16-4cad-8126-49159e7a69e8",
   "metadata": {},
   "source": [
    "# What is the reason we all live on this planet?\n"
   ]
  },
  {
   "cell_type": "code",
   "execution_count": 9,
   "id": "fe39ea66-c93a-4ad9-b803-0bab0f790cc1",
   "metadata": {},
   "outputs": [
    {
     "name": "stdout",
     "output_type": "stream",
     "text": [
      "the reason is 42.0\n"
     ]
    }
   ],
   "source": [
    "x = 2 * 45 \n",
    "y = 56 / 8 - 4\n",
    "reason = x / 2 - y\n",
    "\n",
    "print(f'the reason is {reason}')"
   ]
  },
  {
   "cell_type": "code",
   "execution_count": 1,
   "id": "ccf6cfc0-6ea1-4098-8ccb-e008483ef6f7",
   "metadata": {},
   "outputs": [
    {
     "name": "stdout",
     "output_type": "stream",
     "text": [
      "Tweede aanpassing?\n"
     ]
    }
   ],
   "source": [
    "# extra wijziging\n",
    "\n",
    "print('Tweede aanpassing?')"
   ]
  },
  {
   "cell_type": "code",
   "execution_count": null,
   "id": "2b95b67c",
   "metadata": {},
   "outputs": [],
   "source": []
  }
 ],
 "metadata": {
  "kernelspec": {
   "display_name": "Python 3 (ipykernel)",
   "language": "python",
   "name": "python3"
  },
  "language_info": {
   "codemirror_mode": {
    "name": "ipython",
    "version": 3
   },
   "file_extension": ".py",
   "mimetype": "text/x-python",
   "name": "python",
   "nbconvert_exporter": "python",
   "pygments_lexer": "ipython3",
   "version": "3.7.11"
  }
 },
 "nbformat": 4,
 "nbformat_minor": 5
}
