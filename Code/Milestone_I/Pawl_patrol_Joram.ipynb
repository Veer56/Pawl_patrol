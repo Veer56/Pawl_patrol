{
  "cells": [
    {
      "cell_type": "code",
      "execution_count": 18,
      "metadata": {
        "id": "sUU9XoeMRyHY",
        "colab": {
          "base_uri": "https://localhost:8080/"
        },
        "outputId": "a950fbdd-c342-4ba2-caa9-64fe8112280f"
      },
      "outputs": [
        {
          "output_type": "stream",
          "name": "stdout",
          "text": [
            "[PhysicalDevice(name='/physical_device:GPU:0', device_type='GPU')]\n"
          ]
        }
      ],
      "source": [
        "import numpy as np\n",
        "import pandas as pd\n",
        "import matplotlib.pyplot as plt\n",
        "import tensorflow as tf\n",
        "\n",
        "print(tf.config.list_physical_devices('GPU'))\n",
        "from tensorflow.keras import layers, models, preprocessing"
      ]
    },
    {
      "cell_type": "code",
      "execution_count": 19,
      "metadata": {
        "colab": {
          "base_uri": "https://localhost:8080/"
        },
        "id": "YyUtqx_-VcFq",
        "outputId": "7b598448-6287-4d92-816e-a60990cf061f"
      },
      "outputs": [
        {
          "output_type": "stream",
          "name": "stdout",
          "text": [
            "Drive already mounted at /content/gdrive; to attempt to forcibly remount, call drive.mount(\"/content/gdrive\", force_remount=True).\n",
            "Archive:  gdrive/MyDrive/pawpatrol/petfinder-pawpularity-score.zip\n",
            "replace sample_submission.csv? [y]es, [n]o, [A]ll, [N]one, [r]ename: "
          ]
        }
      ],
      "source": [
        "from google.colab import drive\n",
        "drive.mount('/content/gdrive')\n",
        "!unzip gdrive/MyDrive/pawpatrol/petfinder-pawpularity-score.zip"
      ]
    },
    {
      "cell_type": "code",
      "execution_count": 20,
      "metadata": {
        "id": "IkAw9UtJR2GV",
        "colab": {
          "base_uri": "https://localhost:8080/",
          "height": 206
        },
        "outputId": "26af2b3a-f1cb-4a28-cada-bd843b7927b7"
      },
      "outputs": [
        {
          "output_type": "display_data",
          "data": {
            "text/html": [
              "\n",
              "  <div id=\"df-13ddde50-e3c7-4062-8b67-8f8aae5e5359\">\n",
              "    <div class=\"colab-df-container\">\n",
              "      <div>\n",
              "<style scoped>\n",
              "    .dataframe tbody tr th:only-of-type {\n",
              "        vertical-align: middle;\n",
              "    }\n",
              "\n",
              "    .dataframe tbody tr th {\n",
              "        vertical-align: top;\n",
              "    }\n",
              "\n",
              "    .dataframe thead th {\n",
              "        text-align: right;\n",
              "    }\n",
              "</style>\n",
              "<table border=\"1\" class=\"dataframe\">\n",
              "  <thead>\n",
              "    <tr style=\"text-align: right;\">\n",
              "      <th></th>\n",
              "      <th>Id</th>\n",
              "      <th>Subject Focus</th>\n",
              "      <th>Eyes</th>\n",
              "      <th>Face</th>\n",
              "      <th>Near</th>\n",
              "      <th>Action</th>\n",
              "      <th>Accessory</th>\n",
              "      <th>Group</th>\n",
              "      <th>Collage</th>\n",
              "      <th>Human</th>\n",
              "      <th>Occlusion</th>\n",
              "      <th>Info</th>\n",
              "      <th>Blur</th>\n",
              "      <th>Pawpularity</th>\n",
              "    </tr>\n",
              "  </thead>\n",
              "  <tbody>\n",
              "    <tr>\n",
              "      <th>0</th>\n",
              "      <td>0007de18844b0dbbb5e1f607da0606e0</td>\n",
              "      <td>0</td>\n",
              "      <td>1</td>\n",
              "      <td>1</td>\n",
              "      <td>1</td>\n",
              "      <td>0</td>\n",
              "      <td>0</td>\n",
              "      <td>1</td>\n",
              "      <td>0</td>\n",
              "      <td>0</td>\n",
              "      <td>0</td>\n",
              "      <td>0</td>\n",
              "      <td>0</td>\n",
              "      <td>63</td>\n",
              "    </tr>\n",
              "    <tr>\n",
              "      <th>1</th>\n",
              "      <td>0009c66b9439883ba2750fb825e1d7db</td>\n",
              "      <td>0</td>\n",
              "      <td>1</td>\n",
              "      <td>1</td>\n",
              "      <td>0</td>\n",
              "      <td>0</td>\n",
              "      <td>0</td>\n",
              "      <td>0</td>\n",
              "      <td>0</td>\n",
              "      <td>0</td>\n",
              "      <td>0</td>\n",
              "      <td>0</td>\n",
              "      <td>0</td>\n",
              "      <td>42</td>\n",
              "    </tr>\n",
              "    <tr>\n",
              "      <th>2</th>\n",
              "      <td>0013fd999caf9a3efe1352ca1b0d937e</td>\n",
              "      <td>0</td>\n",
              "      <td>1</td>\n",
              "      <td>1</td>\n",
              "      <td>1</td>\n",
              "      <td>0</td>\n",
              "      <td>0</td>\n",
              "      <td>0</td>\n",
              "      <td>0</td>\n",
              "      <td>1</td>\n",
              "      <td>1</td>\n",
              "      <td>0</td>\n",
              "      <td>0</td>\n",
              "      <td>28</td>\n",
              "    </tr>\n",
              "    <tr>\n",
              "      <th>3</th>\n",
              "      <td>0018df346ac9c1d8413cfcc888ca8246</td>\n",
              "      <td>0</td>\n",
              "      <td>1</td>\n",
              "      <td>1</td>\n",
              "      <td>1</td>\n",
              "      <td>0</td>\n",
              "      <td>0</td>\n",
              "      <td>0</td>\n",
              "      <td>0</td>\n",
              "      <td>0</td>\n",
              "      <td>0</td>\n",
              "      <td>0</td>\n",
              "      <td>0</td>\n",
              "      <td>15</td>\n",
              "    </tr>\n",
              "    <tr>\n",
              "      <th>4</th>\n",
              "      <td>001dc955e10590d3ca4673f034feeef2</td>\n",
              "      <td>0</td>\n",
              "      <td>0</td>\n",
              "      <td>0</td>\n",
              "      <td>1</td>\n",
              "      <td>0</td>\n",
              "      <td>0</td>\n",
              "      <td>1</td>\n",
              "      <td>0</td>\n",
              "      <td>0</td>\n",
              "      <td>0</td>\n",
              "      <td>0</td>\n",
              "      <td>0</td>\n",
              "      <td>72</td>\n",
              "    </tr>\n",
              "  </tbody>\n",
              "</table>\n",
              "</div>\n",
              "      <button class=\"colab-df-convert\" onclick=\"convertToInteractive('df-13ddde50-e3c7-4062-8b67-8f8aae5e5359')\"\n",
              "              title=\"Convert this dataframe to an interactive table.\"\n",
              "              style=\"display:none;\">\n",
              "        \n",
              "  <svg xmlns=\"http://www.w3.org/2000/svg\" height=\"24px\"viewBox=\"0 0 24 24\"\n",
              "       width=\"24px\">\n",
              "    <path d=\"M0 0h24v24H0V0z\" fill=\"none\"/>\n",
              "    <path d=\"M18.56 5.44l.94 2.06.94-2.06 2.06-.94-2.06-.94-.94-2.06-.94 2.06-2.06.94zm-11 1L8.5 8.5l.94-2.06 2.06-.94-2.06-.94L8.5 2.5l-.94 2.06-2.06.94zm10 10l.94 2.06.94-2.06 2.06-.94-2.06-.94-.94-2.06-.94 2.06-2.06.94z\"/><path d=\"M17.41 7.96l-1.37-1.37c-.4-.4-.92-.59-1.43-.59-.52 0-1.04.2-1.43.59L10.3 9.45l-7.72 7.72c-.78.78-.78 2.05 0 2.83L4 21.41c.39.39.9.59 1.41.59.51 0 1.02-.2 1.41-.59l7.78-7.78 2.81-2.81c.8-.78.8-2.07 0-2.86zM5.41 20L4 18.59l7.72-7.72 1.47 1.35L5.41 20z\"/>\n",
              "  </svg>\n",
              "      </button>\n",
              "      \n",
              "  <style>\n",
              "    .colab-df-container {\n",
              "      display:flex;\n",
              "      flex-wrap:wrap;\n",
              "      gap: 12px;\n",
              "    }\n",
              "\n",
              "    .colab-df-convert {\n",
              "      background-color: #E8F0FE;\n",
              "      border: none;\n",
              "      border-radius: 50%;\n",
              "      cursor: pointer;\n",
              "      display: none;\n",
              "      fill: #1967D2;\n",
              "      height: 32px;\n",
              "      padding: 0 0 0 0;\n",
              "      width: 32px;\n",
              "    }\n",
              "\n",
              "    .colab-df-convert:hover {\n",
              "      background-color: #E2EBFA;\n",
              "      box-shadow: 0px 1px 2px rgba(60, 64, 67, 0.3), 0px 1px 3px 1px rgba(60, 64, 67, 0.15);\n",
              "      fill: #174EA6;\n",
              "    }\n",
              "\n",
              "    [theme=dark] .colab-df-convert {\n",
              "      background-color: #3B4455;\n",
              "      fill: #D2E3FC;\n",
              "    }\n",
              "\n",
              "    [theme=dark] .colab-df-convert:hover {\n",
              "      background-color: #434B5C;\n",
              "      box-shadow: 0px 1px 3px 1px rgba(0, 0, 0, 0.15);\n",
              "      filter: drop-shadow(0px 1px 2px rgba(0, 0, 0, 0.3));\n",
              "      fill: #FFFFFF;\n",
              "    }\n",
              "  </style>\n",
              "\n",
              "      <script>\n",
              "        const buttonEl =\n",
              "          document.querySelector('#df-13ddde50-e3c7-4062-8b67-8f8aae5e5359 button.colab-df-convert');\n",
              "        buttonEl.style.display =\n",
              "          google.colab.kernel.accessAllowed ? 'block' : 'none';\n",
              "\n",
              "        async function convertToInteractive(key) {\n",
              "          const element = document.querySelector('#df-13ddde50-e3c7-4062-8b67-8f8aae5e5359');\n",
              "          const dataTable =\n",
              "            await google.colab.kernel.invokeFunction('convertToInteractive',\n",
              "                                                     [key], {});\n",
              "          if (!dataTable) return;\n",
              "\n",
              "          const docLinkHtml = 'Like what you see? Visit the ' +\n",
              "            '<a target=\"_blank\" href=https://colab.research.google.com/notebooks/data_table.ipynb>data table notebook</a>'\n",
              "            + ' to learn more about interactive tables.';\n",
              "          element.innerHTML = '';\n",
              "          dataTable['output_type'] = 'display_data';\n",
              "          await google.colab.output.renderOutput(dataTable, element);\n",
              "          const docLink = document.createElement('div');\n",
              "          docLink.innerHTML = docLinkHtml;\n",
              "          element.appendChild(docLink);\n",
              "        }\n",
              "      </script>\n",
              "    </div>\n",
              "  </div>\n",
              "  "
            ],
            "text/plain": [
              "                                 Id  Subject Focus  ...  Blur  Pawpularity\n",
              "0  0007de18844b0dbbb5e1f607da0606e0              0  ...     0           63\n",
              "1  0009c66b9439883ba2750fb825e1d7db              0  ...     0           42\n",
              "2  0013fd999caf9a3efe1352ca1b0d937e              0  ...     0           28\n",
              "3  0018df346ac9c1d8413cfcc888ca8246              0  ...     0           15\n",
              "4  001dc955e10590d3ca4673f034feeef2              0  ...     0           72\n",
              "\n",
              "[5 rows x 14 columns]"
            ]
          },
          "metadata": {}
        }
      ],
      "source": [
        "url = 'https://raw.githubusercontent.com/Veer56/Pawl_patrol/main/Code/data/train.csv'\n",
        "train_data = pd.read_csv(url)\n",
        "train_data['Pawpularity'] = train_data['Pawpularity']\n",
        "display(train_data.head(5))"
      ]
    },
    {
      "cell_type": "code",
      "execution_count": 21,
      "metadata": {
        "colab": {
          "base_uri": "https://localhost:8080/"
        },
        "id": "AHxa6SA-SGbk",
        "outputId": "d5c5fb79-6392-45dc-be3a-a45716d169e1"
      },
      "outputs": [
        {
          "output_type": "stream",
          "name": "stdout",
          "text": [
            "Training labels loaded: (9912, 128, 128, 3)\n"
          ]
        }
      ],
      "source": [
        "import os\n",
        "import cv2\n",
        "import numpy as np\n",
        "\n",
        "def load_images_from_folder(folder, data = [], size=128):\n",
        "    images = []\n",
        "    labels = []\n",
        "    names = []\n",
        "    for filename in os.listdir(folder):\n",
        "        name = filename.strip('.jpg')\n",
        "        names.append(name)\n",
        "        labels.append(data.loc[data['Id']== name]['Pawpularity'])\n",
        "        img = cv2.resize(cv2.imread(os.path.join(folder,filename)), (size, size))\n",
        "        if img is not None:\n",
        "            images.append(img)\n",
        "    return np.array(images), labels, names\n",
        "\n",
        "image_images, image_labels, image_names = load_images_from_folder('train', data = train_data)\n",
        "\n",
        "print(f'Training labels loaded: {image_images.shape}')"
      ]
    },
    {
      "cell_type": "code",
      "execution_count": 22,
      "metadata": {
        "id": "nhro7yhCTPf-"
      },
      "outputs": [],
      "source": [
        "image_images = image_images\n"
      ]
    },
    {
      "cell_type": "code",
      "execution_count": 23,
      "metadata": {
        "id": "KjhuAKdySMQr"
      },
      "outputs": [],
      "source": [
        "from sklearn.model_selection import train_test_split\n",
        "image_train, image_test, label_train, label_test, name_train, name_test = train_test_split(image_images, image_labels, image_names, test_size=0.33, random_state=42)"
      ]
    },
    {
      "cell_type": "code",
      "execution_count": 26,
      "metadata": {
        "id": "wsfBIqsNbeqw"
      },
      "outputs": [],
      "source": [
        "def train_and_evaluate(model, train_x, train_y, val_x, val_y, preprocess={}, epochs=20, augment={}):\n",
        "\n",
        "    model.compile(loss='mse', optimizer='adam', metrics=['RootMeanSquaredError'])\n",
        "\n",
        "    train_gen = preprocessing.image.ImageDataGenerator(**preprocess, **augment)\n",
        "    train_gen.fit(train_x) \n",
        "\n",
        "    val_gen = preprocessing.image.ImageDataGenerator(**preprocess)\n",
        "    val_gen.fit(train_x)\n",
        "\n",
        "    history = model.fit(train_gen.flow(train_x, train_y), epochs=epochs, \n",
        "                        validation_data=val_gen.flow(val_x, val_y))\n",
        "\n",
        "    fig, axs = plt.subplots(1, 2, figsize=(20, 5)) \n",
        "\n",
        "    for i, metric in enumerate(['loss', 'root_mean_squared_error']):\n",
        "        axs[i].plot(history.history[metric])\n",
        "        axs[i].plot(history.history['val_' + metric])\n",
        "        axs[i].legend(['training', 'validation'], loc='best')\n",
        "\n",
        "        axs[i].set_title('Model '+metric)\n",
        "        axs[i].set_ylabel(metric)\n",
        "        axs[i].set_xlabel('epoch')\n",
        "\n",
        "    plt.show()\n",
        "\n",
        "    print(f\"The validation root_mean_squared_error: {model.evaluate(val_gen.flow(val_x, val_y))[1]}\")"
      ]
    },
    {
      "cell_type": "code",
      "source": [
        "model = models.Sequential()\n",
        "model.add(layers.Conv2D(128, (3, 3), activation='relu', padding='same', input_shape=(128, 128, 3)))\n",
        "model.add(layers.MaxPooling2D((2, 2)))\n",
        "\n",
        "model.add(layers.Conv2D(256, (3, 3), activation='relu', padding='same'))\n",
        "model.add(layers.MaxPooling2D((2, 2)))\n",
        "\n",
        "model.add(layers.Flatten())\n",
        "model.add(layers.Dense(256, activation='relu'))\n",
        "model.add(layers.Dense(1, activation='linear'))\n",
        "\n",
        "\n",
        "train_and_evaluate(model, image_train, label_train, image_test, label_test)"
      ],
      "metadata": {
        "colab": {
          "base_uri": "https://localhost:8080/",
          "height": 1000
        },
        "id": "cJ8HO8RRoHff",
        "outputId": "ac609d67-b5da-4a50-991c-ac3b8cbf090e"
      },
      "execution_count": 27,
      "outputs": [
        {
          "output_type": "stream",
          "name": "stdout",
          "text": [
            "Epoch 1/20\n",
            "208/208 [==============================] - 33s 156ms/step - loss: 1821727.8750 - root_mean_squared_error: 1349.7140 - val_loss: 496.5204 - val_root_mean_squared_error: 22.2827\n",
            "Epoch 2/20\n",
            "208/208 [==============================] - 32s 155ms/step - loss: 484.7282 - root_mean_squared_error: 22.0165 - val_loss: 519.5282 - val_root_mean_squared_error: 22.7932\n",
            "Epoch 3/20\n",
            "208/208 [==============================] - 32s 155ms/step - loss: 463.8556 - root_mean_squared_error: 21.5373 - val_loss: 515.9863 - val_root_mean_squared_error: 22.7153\n",
            "Epoch 4/20\n",
            "208/208 [==============================] - 32s 155ms/step - loss: 435.6915 - root_mean_squared_error: 20.8732 - val_loss: 493.7058 - val_root_mean_squared_error: 22.2195\n",
            "Epoch 5/20\n",
            "208/208 [==============================] - 32s 155ms/step - loss: 401.7788 - root_mean_squared_error: 20.0444 - val_loss: 566.3378 - val_root_mean_squared_error: 23.7979\n",
            "Epoch 6/20\n",
            "208/208 [==============================] - 32s 154ms/step - loss: 365.3151 - root_mean_squared_error: 19.1132 - val_loss: 529.2850 - val_root_mean_squared_error: 23.0062\n",
            "Epoch 7/20\n",
            "208/208 [==============================] - 32s 154ms/step - loss: 320.7753 - root_mean_squared_error: 17.9102 - val_loss: 591.1443 - val_root_mean_squared_error: 24.3135\n",
            "Epoch 8/20\n",
            "208/208 [==============================] - 32s 155ms/step - loss: 277.9679 - root_mean_squared_error: 16.6724 - val_loss: 550.4678 - val_root_mean_squared_error: 23.4621\n",
            "Epoch 9/20\n",
            "208/208 [==============================] - 32s 156ms/step - loss: 233.0513 - root_mean_squared_error: 15.2660 - val_loss: 608.0938 - val_root_mean_squared_error: 24.6596\n",
            "Epoch 10/20\n",
            "208/208 [==============================] - 32s 155ms/step - loss: 204.2401 - root_mean_squared_error: 14.2913 - val_loss: 638.6578 - val_root_mean_squared_error: 25.2717\n",
            "Epoch 11/20\n",
            "208/208 [==============================] - 32s 156ms/step - loss: 160.7265 - root_mean_squared_error: 12.6778 - val_loss: 613.4379 - val_root_mean_squared_error: 24.7677\n",
            "Epoch 12/20\n",
            "208/208 [==============================] - 32s 156ms/step - loss: 128.8170 - root_mean_squared_error: 11.3498 - val_loss: 628.3771 - val_root_mean_squared_error: 25.0675\n",
            "Epoch 13/20\n",
            "208/208 [==============================] - 32s 156ms/step - loss: 106.1033 - root_mean_squared_error: 10.3006 - val_loss: 624.6232 - val_root_mean_squared_error: 24.9925\n",
            "Epoch 14/20\n",
            "208/208 [==============================] - 32s 156ms/step - loss: 89.2428 - root_mean_squared_error: 9.4468 - val_loss: 678.6902 - val_root_mean_squared_error: 26.0517\n",
            "Epoch 15/20\n",
            "208/208 [==============================] - 32s 156ms/step - loss: 75.7684 - root_mean_squared_error: 8.7045 - val_loss: 631.1680 - val_root_mean_squared_error: 25.1231\n",
            "Epoch 16/20\n",
            "208/208 [==============================] - 32s 155ms/step - loss: 62.5008 - root_mean_squared_error: 7.9057 - val_loss: 670.6408 - val_root_mean_squared_error: 25.8967\n",
            "Epoch 17/20\n",
            "208/208 [==============================] - 32s 155ms/step - loss: 53.9221 - root_mean_squared_error: 7.3432 - val_loss: 658.3270 - val_root_mean_squared_error: 25.6579\n",
            "Epoch 18/20\n",
            "208/208 [==============================] - 32s 155ms/step - loss: 49.6765 - root_mean_squared_error: 7.0482 - val_loss: 649.0472 - val_root_mean_squared_error: 25.4764\n",
            "Epoch 19/20\n",
            "208/208 [==============================] - 32s 155ms/step - loss: 43.6966 - root_mean_squared_error: 6.6103 - val_loss: 646.8806 - val_root_mean_squared_error: 25.4338\n",
            "Epoch 20/20\n",
            "208/208 [==============================] - 32s 155ms/step - loss: 38.1717 - root_mean_squared_error: 6.1783 - val_loss: 647.0943 - val_root_mean_squared_error: 25.4380\n"
          ]
        },
        {
          "output_type": "display_data",
          "data": {
            "image/png": "[encoded data removed]",
            "text/plain": [
              "<Figure size 1440x360 with 2 Axes>"
            ]
          },
          "metadata": {
            "needs_background": "light"
          }
        },
        {
          "output_type": "stream",
          "name": "stdout",
          "text": [
            "103/103 [==============================] - 4s 38ms/step - loss: 647.0942 - root_mean_squared_error: 25.4380\n",
            "Validation Accuracy: 25.438047409057617\n"
          ]
        }
      ]
    },
    {
      "cell_type": "code",
      "source": [
        "    test_images = []\n",
        "    \n",
        "    test_names = []\n",
        "    for filename in os.listdir('test'):\n",
        "        name = filename.strip('.jpg')\n",
        "        test_names.append(name)\n",
        "        img = cv2.imread(os.path.join('test',filename))\n",
        "        if img is not None:\n",
        "            test_images.append(img)"
      ],
      "metadata": {
        "id": "PUTAQeIWpMtC"
      },
      "execution_count": 28,
      "outputs": []
    },
    {
      "cell_type": "code",
      "source": [
        "test_images = np.array(test_images)\n",
        "model.predict(test_images)"
      ],
      "metadata": {
        "id": "jpmKYHVJu3yU",
        "colab": {
          "base_uri": "https://localhost:8080/"
        },
        "outputId": "8b8fe5c3-6e8e-488e-b550-508e3484f5a9"
      },
      "execution_count": 29,
      "outputs": [
        {
          "output_type": "execute_result",
          "data": {
            "text/plain": [
              "array([[23.843912],\n",
              "       [31.398142],\n",
              "       [28.371939],\n",
              "       [41.517563],\n",
              "       [34.79773 ],\n",
              "       [43.61006 ],\n",
              "       [45.29967 ],\n",
              "       [49.519005]], dtype=float32)"
            ]
          },
          "metadata": {},
          "execution_count": 29
        }
      ]
    },
    {
      "cell_type": "code",
      "source": [
        ""
      ],
      "metadata": {
        "id": "qBN-GkBNzxr2"
      },
      "execution_count": null,
      "outputs": []
    }
  ],
  "metadata": {
    "accelerator": "GPU",
    "colab": {
      "name": "pawl_patrol_Joram.ipynb",
      "provenance": [],
      "collapsed_sections": []
    },
    "kernelspec": {
      "display_name": "Python 3",
      "name": "python3"
    },
    "language_info": {
      "name": "python"
    }
  },
  "nbformat": 4,
  "nbformat_minor": 0
}
