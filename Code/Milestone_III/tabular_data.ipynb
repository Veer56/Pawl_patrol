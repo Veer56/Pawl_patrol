{
  "cells": [
    {
      "cell_type": "code",
      "execution_count": null,
      "metadata": {
        "id": "sUU9XoeMRyHY",
        "colab": {
          "base_uri": "https://localhost:8080/"
        },
        "outputId": "1d67bb97-6cc2-4aa2-f302-22469209724f"
      },
      "outputs": [
        {
          "output_type": "stream",
          "name": "stdout",
          "text": [
            "[PhysicalDevice(name='/physical_device:GPU:0', device_type='GPU')]\n"
          ]
        }
      ],
      "source": [
        "import numpy as np\n",
        "import pandas as pd\n",
        "import matplotlib.pyplot as plt\n",
        "import tensorflow as tf\n",
        "from sklearn.model_selection import train_test_split\n",
        "\n",
        "print(tf.config.list_physical_devices('GPU'))\n",
        "from tensorflow.keras import layers, models, preprocessing"
      ]
    },
    {
      "cell_type": "code",
      "execution_count": null,
      "metadata": {
        "colab": {
          "base_uri": "https://localhost:8080/"
        },
        "id": "YyUtqx_-VcFq",
        "outputId": "ae4aeb6e-9928-4176-c469-f209523d1d17"
      },
      "outputs": [
        {
          "output_type": "stream",
          "name": "stdout",
          "text": [
            "Drive already mounted at /content/gdrive; to attempt to forcibly remount, call drive.mount(\"/content/gdrive\", force_remount=True).\n",
            "Archive:  gdrive/MyDrive/pawpatrol/petfinder-pawpularity-score.zip\n",
            "replace sample_submission.csv? [y]es, [n]o, [A]ll, [N]one, [r]ename: "
          ]
        }
      ],
      "source": [
        "from google.colab import drive\n",
        "drive.mount('/content/gdrive')\n",
        "!unzip gdrive/MyDrive/pawpatrol/petfinder-pawpularity-score.zip"
      ]
    },
    {
      "cell_type": "code",
      "execution_count": null,
      "metadata": {
        "id": "IkAw9UtJR2GV",
        "colab": {
          "base_uri": "https://localhost:8080/",
          "height": 224
        },
        "outputId": "400d9c4e-c02b-4c9c-c033-4864eadf7652"
      },
      "outputs": [
        {
          "output_type": "display_data",
          "data": {
            "text/html": [
              "\n",
              "  <div id=\"df-ca277ed2-55cf-4b67-9aa5-763397fa3153\">\n",
              "    <div class=\"colab-df-container\">\n",
              "      <div>\n",
              "<style scoped>\n",
              "    .dataframe tbody tr th:only-of-type {\n",
              "        vertical-align: middle;\n",
              "    }\n",
              "\n",
              "    .dataframe tbody tr th {\n",
              "        vertical-align: top;\n",
              "    }\n",
              "\n",
              "    .dataframe thead th {\n",
              "        text-align: right;\n",
              "    }\n",
              "</style>\n",
              "<table border=\"1\" class=\"dataframe\">\n",
              "  <thead>\n",
              "    <tr style=\"text-align: right;\">\n",
              "      <th></th>\n",
              "      <th>Id</th>\n",
              "      <th>Subject Focus</th>\n",
              "      <th>Eyes</th>\n",
              "      <th>Face</th>\n",
              "      <th>Near</th>\n",
              "      <th>Action</th>\n",
              "      <th>Accessory</th>\n",
              "      <th>Group</th>\n",
              "      <th>Collage</th>\n",
              "      <th>Human</th>\n",
              "      <th>Occlusion</th>\n",
              "      <th>Info</th>\n",
              "      <th>Blur</th>\n",
              "      <th>Pawpularity</th>\n",
              "    </tr>\n",
              "  </thead>\n",
              "  <tbody>\n",
              "    <tr>\n",
              "      <th>0</th>\n",
              "      <td>0007de18844b0dbbb5e1f607da0606e0</td>\n",
              "      <td>0</td>\n",
              "      <td>1</td>\n",
              "      <td>1</td>\n",
              "      <td>1</td>\n",
              "      <td>0</td>\n",
              "      <td>0</td>\n",
              "      <td>1</td>\n",
              "      <td>0</td>\n",
              "      <td>0</td>\n",
              "      <td>0</td>\n",
              "      <td>0</td>\n",
              "      <td>0</td>\n",
              "      <td>63</td>\n",
              "    </tr>\n",
              "    <tr>\n",
              "      <th>1</th>\n",
              "      <td>0009c66b9439883ba2750fb825e1d7db</td>\n",
              "      <td>0</td>\n",
              "      <td>1</td>\n",
              "      <td>1</td>\n",
              "      <td>0</td>\n",
              "      <td>0</td>\n",
              "      <td>0</td>\n",
              "      <td>0</td>\n",
              "      <td>0</td>\n",
              "      <td>0</td>\n",
              "      <td>0</td>\n",
              "      <td>0</td>\n",
              "      <td>0</td>\n",
              "      <td>42</td>\n",
              "    </tr>\n",
              "    <tr>\n",
              "      <th>2</th>\n",
              "      <td>0013fd999caf9a3efe1352ca1b0d937e</td>\n",
              "      <td>0</td>\n",
              "      <td>1</td>\n",
              "      <td>1</td>\n",
              "      <td>1</td>\n",
              "      <td>0</td>\n",
              "      <td>0</td>\n",
              "      <td>0</td>\n",
              "      <td>0</td>\n",
              "      <td>1</td>\n",
              "      <td>1</td>\n",
              "      <td>0</td>\n",
              "      <td>0</td>\n",
              "      <td>28</td>\n",
              "    </tr>\n",
              "    <tr>\n",
              "      <th>3</th>\n",
              "      <td>0018df346ac9c1d8413cfcc888ca8246</td>\n",
              "      <td>0</td>\n",
              "      <td>1</td>\n",
              "      <td>1</td>\n",
              "      <td>1</td>\n",
              "      <td>0</td>\n",
              "      <td>0</td>\n",
              "      <td>0</td>\n",
              "      <td>0</td>\n",
              "      <td>0</td>\n",
              "      <td>0</td>\n",
              "      <td>0</td>\n",
              "      <td>0</td>\n",
              "      <td>15</td>\n",
              "    </tr>\n",
              "    <tr>\n",
              "      <th>4</th>\n",
              "      <td>001dc955e10590d3ca4673f034feeef2</td>\n",
              "      <td>0</td>\n",
              "      <td>0</td>\n",
              "      <td>0</td>\n",
              "      <td>1</td>\n",
              "      <td>0</td>\n",
              "      <td>0</td>\n",
              "      <td>1</td>\n",
              "      <td>0</td>\n",
              "      <td>0</td>\n",
              "      <td>0</td>\n",
              "      <td>0</td>\n",
              "      <td>0</td>\n",
              "      <td>72</td>\n",
              "    </tr>\n",
              "  </tbody>\n",
              "</table>\n",
              "</div>\n",
              "      <button class=\"colab-df-convert\" onclick=\"convertToInteractive('df-ca277ed2-55cf-4b67-9aa5-763397fa3153')\"\n",
              "              title=\"Convert this dataframe to an interactive table.\"\n",
              "              style=\"display:none;\">\n",
              "        \n",
              "  <svg xmlns=\"http://www.w3.org/2000/svg\" height=\"24px\"viewBox=\"0 0 24 24\"\n",
              "       width=\"24px\">\n",
              "    <path d=\"M0 0h24v24H0V0z\" fill=\"none\"/>\n",
              "    <path d=\"M18.56 5.44l.94 2.06.94-2.06 2.06-.94-2.06-.94-.94-2.06-.94 2.06-2.06.94zm-11 1L8.5 8.5l.94-2.06 2.06-.94-2.06-.94L8.5 2.5l-.94 2.06-2.06.94zm10 10l.94 2.06.94-2.06 2.06-.94-2.06-.94-.94-2.06-.94 2.06-2.06.94z\"/><path d=\"M17.41 7.96l-1.37-1.37c-.4-.4-.92-.59-1.43-.59-.52 0-1.04.2-1.43.59L10.3 9.45l-7.72 7.72c-.78.78-.78 2.05 0 2.83L4 21.41c.39.39.9.59 1.41.59.51 0 1.02-.2 1.41-.59l7.78-7.78 2.81-2.81c.8-.78.8-2.07 0-2.86zM5.41 20L4 18.59l7.72-7.72 1.47 1.35L5.41 20z\"/>\n",
              "  </svg>\n",
              "      </button>\n",
              "      \n",
              "  <style>\n",
              "    .colab-df-container {\n",
              "      display:flex;\n",
              "      flex-wrap:wrap;\n",
              "      gap: 12px;\n",
              "    }\n",
              "\n",
              "    .colab-df-convert {\n",
              "      background-color: #E8F0FE;\n",
              "      border: none;\n",
              "      border-radius: 50%;\n",
              "      cursor: pointer;\n",
              "      display: none;\n",
              "      fill: #1967D2;\n",
              "      height: 32px;\n",
              "      padding: 0 0 0 0;\n",
              "      width: 32px;\n",
              "    }\n",
              "\n",
              "    .colab-df-convert:hover {\n",
              "      background-color: #E2EBFA;\n",
              "      box-shadow: 0px 1px 2px rgba(60, 64, 67, 0.3), 0px 1px 3px 1px rgba(60, 64, 67, 0.15);\n",
              "      fill: #174EA6;\n",
              "    }\n",
              "\n",
              "    [theme=dark] .colab-df-convert {\n",
              "      background-color: #3B4455;\n",
              "      fill: #D2E3FC;\n",
              "    }\n",
              "\n",
              "    [theme=dark] .colab-df-convert:hover {\n",
              "      background-color: #434B5C;\n",
              "      box-shadow: 0px 1px 3px 1px rgba(0, 0, 0, 0.15);\n",
              "      filter: drop-shadow(0px 1px 2px rgba(0, 0, 0, 0.3));\n",
              "      fill: #FFFFFF;\n",
              "    }\n",
              "  </style>\n",
              "\n",
              "      <script>\n",
              "        const buttonEl =\n",
              "          document.querySelector('#df-ca277ed2-55cf-4b67-9aa5-763397fa3153 button.colab-df-convert');\n",
              "        buttonEl.style.display =\n",
              "          google.colab.kernel.accessAllowed ? 'block' : 'none';\n",
              "\n",
              "        async function convertToInteractive(key) {\n",
              "          const element = document.querySelector('#df-ca277ed2-55cf-4b67-9aa5-763397fa3153');\n",
              "          const dataTable =\n",
              "            await google.colab.kernel.invokeFunction('convertToInteractive',\n",
              "                                                     [key], {});\n",
              "          if (!dataTable) return;\n",
              "\n",
              "          const docLinkHtml = 'Like what you see? Visit the ' +\n",
              "            '<a target=\"_blank\" href=https://colab.research.google.com/notebooks/data_table.ipynb>data table notebook</a>'\n",
              "            + ' to learn more about interactive tables.';\n",
              "          element.innerHTML = '';\n",
              "          dataTable['output_type'] = 'display_data';\n",
              "          await google.colab.output.renderOutput(dataTable, element);\n",
              "          const docLink = document.createElement('div');\n",
              "          docLink.innerHTML = docLinkHtml;\n",
              "          element.appendChild(docLink);\n",
              "        }\n",
              "      </script>\n",
              "    </div>\n",
              "  </div>\n",
              "  "
            ],
            "text/plain": [
              "                                 Id  Subject Focus  ...  Blur  Pawpularity\n",
              "0  0007de18844b0dbbb5e1f607da0606e0              0  ...     0           63\n",
              "1  0009c66b9439883ba2750fb825e1d7db              0  ...     0           42\n",
              "2  0013fd999caf9a3efe1352ca1b0d937e              0  ...     0           28\n",
              "3  0018df346ac9c1d8413cfcc888ca8246              0  ...     0           15\n",
              "4  001dc955e10590d3ca4673f034feeef2              0  ...     0           72\n",
              "\n",
              "[5 rows x 14 columns]"
            ]
          },
          "metadata": {}
        },
        {
          "output_type": "execute_result",
          "data": {
            "text/plain": [
              "False"
            ]
          },
          "metadata": {},
          "execution_count": 3
        }
      ],
      "source": [
        "url = 'https://raw.githubusercontent.com/Veer56/Pawl_patrol/main/Code/data/train.csv'\n",
        "train_data = pd.read_csv(url, skipinitialspace = True)\n",
        "train_data['Pawpularity'] = train_data['Pawpularity']\n",
        "display(train_data.head(5))\n",
        "\n",
        "train_data.isnull().values.any()"
      ]
    },
    {
      "cell_type": "code",
      "execution_count": null,
      "metadata": {
        "colab": {
          "base_uri": "https://localhost:8080/"
        },
        "id": "AHxa6SA-SGbk",
        "outputId": "dbb5cc36-48a9-4dce-d9e2-3f366439e7aa"
      },
      "outputs": [
        {
          "output_type": "stream",
          "name": "stdout",
          "text": [
            "Training labels loaded: (9912, 128, 128, 3)\n"
          ]
        }
      ],
      "source": [
        "import os\n",
        "import cv2\n",
        "import numpy as np\n",
        "\n",
        "def load_images_from_folder(folder, data = [], size=128):\n",
        "    images = []\n",
        "    labels = []\n",
        "    names = []\n",
        "    for filename in os.listdir(folder):\n",
        "        name = filename.strip('.jpg')\n",
        "        names.append(name)\n",
        "        labels.append(data.loc[data['Id']== name]['Pawpularity'])\n",
        "        img = cv2.resize(cv2.imread(os.path.join(folder,filename)), (size, size))\n",
        "        if img is not None:\n",
        "            images.append(img)\n",
        "    return np.array(images), labels, names\n",
        "\n",
        "image_images, image_labels, image_names = load_images_from_folder('train', data = train_data)\n",
        "\n",
        "print(f'Training labels loaded: {image_images.shape}')"
      ]
    },
    {
      "cell_type": "code",
      "execution_count": null,
      "metadata": {
        "id": "nhro7yhCTPf-",
        "colab": {
          "base_uri": "https://localhost:8080/"
        },
        "outputId": "70bf1d0b-a8bd-4905-bdfa-1d2db0a1c141"
      },
      "outputs": [
        {
          "output_type": "stream",
          "name": "stdout",
          "text": [
            "(9912, 128, 128, 3)\n",
            "(9912, 12)\n",
            "(9912, 1)\n",
            "0       0\n",
            "1       0\n",
            "2       0\n",
            "3       0\n",
            "4       0\n",
            "       ..\n",
            "9907    0\n",
            "9908    0\n",
            "9909    0\n",
            "9910    0\n",
            "9911    0\n",
            "Name: Subject Focus, Length: 9912, dtype: int64\n"
          ]
        }
      ],
      "source": [
        "Data = train_data.copy()\n",
        "Data.Id = Data.Id.astype(\"category\")\n",
        "\n",
        "Data.Id.cat.set_categories(image_names, inplace=True)\n",
        "Data = Data.sort_values([\"Id\"])\n",
        "\n",
        "X = np.array(Data[['Subject Focus', 'Eyes', 'Face', 'Near', \"Action\", 'Accessory','Group', 'Collage','Human', 'Occlusion', 'Info', 'Blur']])\n",
        "\n",
        "print(image_images.shape)\n",
        "print(X.shape)\n",
        "y = np.array(image_labels)\n",
        "print(y.shape)\n",
        "print(train_data['Subject Focus'])"
      ]
    },
    {
      "cell_type": "code",
      "execution_count": null,
      "metadata": {
        "id": "KjhuAKdySMQr"
      },
      "outputs": [],
      "source": [
        ""
      ]
    },
    {
      "cell_type": "code",
      "execution_count": null,
      "metadata": {
        "id": "wsfBIqsNbeqw"
      },
      "outputs": [],
      "source": [
        "def train_and_evaluate(model, input_img, input_tab, X_img, X_tab, y, preprocess={}, epochs=20, augment={}):\n",
        "\n",
        "    model = tf.keras.Model(inputs=[input_img, input_tab], outputs = model)\n",
        "\n",
        "    model.compile(loss=['mse'], optimizer='adam', metrics=['RootMeanSquaredError'])\n",
        "\n",
        "    X_I_train, X_I_test, y_train, y_test, X_T_train, X_T_test = train_test_split(X_img, y, X_tab, test_size=0.33, random_state=42)\n",
        "\n",
        "    train_gen = preprocessing.image.ImageDataGenerator(**preprocess, **augment)\n",
        "    train_gen.fit(X_I_train)     \n",
        "\n",
        "    val_gen = preprocessing.image.ImageDataGenerator(**preprocess)\n",
        "    val_gen.fit(X_I_test)    \n",
        "\n",
        "    history = model.fit( train_gen.flow([X_I_train, X_T_train], y_train), epochs=epochs, \n",
        "                        validation_data = val_gen.flow([X_I_test, X_T_test], y_test), batch_size = 20, validation_batch_size = 20)\n",
        "\n",
        "    fig, axs = plt.subplots(1, 2, figsize=(20, 5)) \n",
        "\n",
        "    for i, metric in enumerate(['loss', 'root_mean_squared_error']):\n",
        "        axs[i].plot(history.history[metric])\n",
        "        axs[i].plot(history.history['val_' + metric])\n",
        "        axs[i].legend(['training', 'validation'], loc='best')\n",
        "        axs[i].set_title('Model '+metric)\n",
        "        axs[i].set_ylabel(metric)\n",
        "        axs[i].set_xlabel('epoch')\n",
        "    \n",
        "    plt.show()\n",
        "\n",
        "    print(f\"The validation root_mean_squared_error: {model.evaluate(val_gen.flow([X_I_test, X_T_test], y_test))[1]}\")"
      ]
    },
    {
      "cell_type": "markdown",
      "source": [
        ""
      ],
      "metadata": {
        "id": "PZDr7VTrtnsB"
      }
    },
    {
      "cell_type": "code",
      "source": [
        "model_img = tf.keras.Input(shape = image_images.shape[1:], name = 'IMG')\n",
        "model_img_1 = tf.keras.layers.Conv2D(64,(3,3),activation='relu' ,padding='same', name = 'IMG_1')(model_img)\n",
        "model_img_2 = tf.keras.layers.MaxPool2D((2,2), name = 'IMG_2')(model_img_1)\n",
        "model_img_3 = tf.keras.layers.BatchNormalization(name = 'IMG_3')(model_img_2)\n",
        "\n",
        "model_flatten = tf.keras.layers.Flatten(name = 'IMG_4')(model_img_3)\n",
        "model_img_5 = tf.keras.layers.Dense(128,activation='relu', name = 'IMG_5')(model_flatten)\n",
        "\n",
        "\n",
        "##### tabular\n",
        "tabular = tf.keras.Input(shape = X.shape[1:], name = 'tabular') \n",
        "tabular1 = tf.keras.layers.Dense(52, activation='relu', name='tabular1')(tabular) \n",
        "tabular2 = tf.keras.layers.Dense((52*53) / 2 + 10, activation='relu', name='tabular2')(tabular1)\n",
        "tabular3 = tf.keras.layers.Dense(50, activation='relu', name='tabular3')(tabular2)\n",
        "tabular4 = tf.keras.layers.Dense(10, activation='relu', name='tabular4')(tabular3)\n",
        "\n",
        "model_concat = tf.keras.layers.Concatenate(name = 'connection', axis = 1)([tabular4, model_img_5])\n",
        "model = tf.keras.layers.Dense(1, activation = 'linear', name = 'finished' )(model_concat)\n",
        "\n",
        "\n",
        "train_and_evaluate(model, model_img, tabular, image_images, X, y, preprocess = {'featurewise_center': True, 'featurewise_std_normalization' : True}, augment = {'vertical_flip' : True, 'zoom_range': 0.1, 'rotation_range' : 0.1})"
      ],
      "metadata": {
        "colab": {
          "base_uri": "https://localhost:8080/",
          "height": 1000
        },
        "id": "cJ8HO8RRoHff",
        "outputId": "9881a36f-8cff-44c2-ae84-d7de139ef99b"
      },
      "execution_count": null,
      "outputs": [
        {
          "output_type": "stream",
          "name": "stdout",
          "text": [
            "Epoch 1/20\n",
            "208/208 [==============================] - 26s 123ms/step - loss: 937.0333 - root_mean_squared_error: 30.6110 - val_loss: 771.8106 - val_root_mean_squared_error: 27.7815\n",
            "Epoch 2/20\n",
            "208/208 [==============================] - 26s 124ms/step - loss: 436.7446 - root_mean_squared_error: 20.8984 - val_loss: 463.5834 - val_root_mean_squared_error: 21.5310\n",
            "Epoch 3/20\n",
            "208/208 [==============================] - 26s 124ms/step - loss: 413.1029 - root_mean_squared_error: 20.3249 - val_loss: 582.4710 - val_root_mean_squared_error: 24.1344\n",
            "Epoch 4/20\n",
            "208/208 [==============================] - 26s 124ms/step - loss: 402.7290 - root_mean_squared_error: 20.0681 - val_loss: 594.7408 - val_root_mean_squared_error: 24.3873\n",
            "Epoch 5/20\n",
            "208/208 [==============================] - 26s 124ms/step - loss: 380.4799 - root_mean_squared_error: 19.5059 - val_loss: 554.4626 - val_root_mean_squared_error: 23.5470\n",
            "Epoch 6/20\n",
            "208/208 [==============================] - 26s 124ms/step - loss: 376.7841 - root_mean_squared_error: 19.4109 - val_loss: 547.5549 - val_root_mean_squared_error: 23.3999\n",
            "Epoch 7/20\n",
            "208/208 [==============================] - 26s 124ms/step - loss: 358.0726 - root_mean_squared_error: 18.9228 - val_loss: 732.5994 - val_root_mean_squared_error: 27.0666\n",
            "Epoch 8/20\n",
            "208/208 [==============================] - 26s 123ms/step - loss: 341.3490 - root_mean_squared_error: 18.4756 - val_loss: 558.2874 - val_root_mean_squared_error: 23.6281\n",
            "Epoch 9/20\n",
            "208/208 [==============================] - 26s 124ms/step - loss: 328.1952 - root_mean_squared_error: 18.1162 - val_loss: 616.7671 - val_root_mean_squared_error: 24.8348\n",
            "Epoch 10/20\n",
            "208/208 [==============================] - 26s 124ms/step - loss: 325.0253 - root_mean_squared_error: 18.0285 - val_loss: 860.0834 - val_root_mean_squared_error: 29.3272\n",
            "Epoch 11/20\n",
            "208/208 [==============================] - 26s 124ms/step - loss: 300.0928 - root_mean_squared_error: 17.3232 - val_loss: 962.4548 - val_root_mean_squared_error: 31.0235\n",
            "Epoch 12/20\n",
            "208/208 [==============================] - 26s 124ms/step - loss: 292.2402 - root_mean_squared_error: 17.0950 - val_loss: 612.6547 - val_root_mean_squared_error: 24.7519\n",
            "Epoch 13/20\n",
            "208/208 [==============================] - 26s 125ms/step - loss: 294.1657 - root_mean_squared_error: 17.1513 - val_loss: 1326.4437 - val_root_mean_squared_error: 36.4204\n",
            "Epoch 14/20\n",
            "208/208 [==============================] - 26s 125ms/step - loss: 289.2265 - root_mean_squared_error: 17.0067 - val_loss: 859.5471 - val_root_mean_squared_error: 29.3180\n",
            "Epoch 15/20\n",
            "208/208 [==============================] - 26s 124ms/step - loss: 262.7118 - root_mean_squared_error: 16.2084 - val_loss: 684.3151 - val_root_mean_squared_error: 26.1594\n",
            "Epoch 16/20\n",
            "208/208 [==============================] - 26s 123ms/step - loss: 244.9115 - root_mean_squared_error: 15.6496 - val_loss: 740.3480 - val_root_mean_squared_error: 27.2093\n",
            "Epoch 17/20\n",
            "208/208 [==============================] - 26s 123ms/step - loss: 236.0317 - root_mean_squared_error: 15.3633 - val_loss: 717.2664 - val_root_mean_squared_error: 26.7818\n",
            "Epoch 18/20\n",
            "208/208 [==============================] - 25s 121ms/step - loss: 220.9540 - root_mean_squared_error: 14.8645 - val_loss: 764.8358 - val_root_mean_squared_error: 27.6557\n",
            "Epoch 19/20\n",
            "208/208 [==============================] - 25s 121ms/step - loss: 213.6838 - root_mean_squared_error: 14.6179 - val_loss: 1038.6241 - val_root_mean_squared_error: 32.2277\n",
            "Epoch 20/20\n",
            "208/208 [==============================] - 26s 123ms/step - loss: 209.8900 - root_mean_squared_error: 14.4876 - val_loss: 754.4219 - val_root_mean_squared_error: 27.4667\n"
          ]
        },
        {
          "output_type": "display_data",
          "data": {
            "image/png": "[encoded data removed]",
            "text/plain": [
              "<Figure size 1440x360 with 2 Axes>"
            ]
          },
          "metadata": {
            "needs_background": "light"
          }
        }
      ]
    },
    {
      "cell_type": "code",
      "source": [
        "    test_images = []\n",
        "    \n",
        "    test_names = []\n",
        "    for filename in os.listdir('test'):\n",
        "        name = filename.strip('.jpg')\n",
        "        test_names.append(name)\n",
        "        img = cv2.imread(os.path.join('test',filename))\n",
        "        if img is not None:\n",
        "            test_images.append(img)"
      ],
      "metadata": {
        "id": "PUTAQeIWpMtC"
      },
      "execution_count": null,
      "outputs": []
    },
    {
      "cell_type": "code",
      "source": [
        "test_images = np.array(test_images)\n",
        "model.predict(test_images)"
      ],
      "metadata": {
        "id": "jpmKYHVJu3yU",
        "colab": {
          "base_uri": "https://localhost:8080/",
          "height": 187
        },
        "outputId": "8ede70c4-40b0-4d16-e8fa-5692b22b6a0c"
      },
      "execution_count": null,
      "outputs": [
        {
          "output_type": "error",
          "ename": "AttributeError",
          "evalue": "ignored",
          "traceback": [
            "\u001b[0;31m---------------------------------------------------------------------------\u001b[0m",
            "\u001b[0;31mAttributeError\u001b[0m                            Traceback (most recent call last)",
            "\u001b[0;32m<ipython-input-13-ad3d5f4cf594>\u001b[0m in \u001b[0;36m<module>\u001b[0;34m()\u001b[0m\n\u001b[1;32m      1\u001b[0m \u001b[0mtest_images\u001b[0m \u001b[0;34m=\u001b[0m \u001b[0mnp\u001b[0m\u001b[0;34m.\u001b[0m\u001b[0marray\u001b[0m\u001b[0;34m(\u001b[0m\u001b[0mtest_images\u001b[0m\u001b[0;34m)\u001b[0m\u001b[0;34m\u001b[0m\u001b[0;34m\u001b[0m\u001b[0m\n\u001b[0;32m----> 2\u001b[0;31m \u001b[0mmodel\u001b[0m\u001b[0;34m.\u001b[0m\u001b[0mpredict\u001b[0m\u001b[0;34m(\u001b[0m\u001b[0mtest_images\u001b[0m\u001b[0;34m)\u001b[0m\u001b[0;34m\u001b[0m\u001b[0;34m\u001b[0m\u001b[0m\n\u001b[0m",
            "\u001b[0;31mAttributeError\u001b[0m: 'KerasTensor' object has no attribute 'predict'"
          ]
        }
      ]
    },
    {
      "cell_type": "code",
      "source": [
        "model.summary()"
      ],
      "metadata": {
        "id": "qBN-GkBNzxr2",
        "colab": {
          "base_uri": "https://localhost:8080/"
        },
        "outputId": "fa79911b-21a2-4efc-e3bf-ed256c3d917f"
      },
      "execution_count": null,
      "outputs": [
        {
          "output_type": "stream",
          "name": "stdout",
          "text": [
            "Model: \"sequential_2\"\n",
            "_________________________________________________________________\n",
            " Layer (type)                Output Shape              Param #   \n",
            "=================================================================\n",
            " conv2d_4 (Conv2D)           (None, 128, 128, 64)      1792      \n",
            "                                                                 \n",
            " max_pooling2d_4 (MaxPooling  (None, 64, 64, 64)       0         \n",
            " 2D)                                                             \n",
            "                                                                 \n",
            " batch_normalization_3 (Batc  (None, 64, 64, 64)       256       \n",
            " hNormalization)                                                 \n",
            "                                                                 \n",
            " dropout_6 (Dropout)         (None, 64, 64, 64)        0         \n",
            "                                                                 \n",
            " conv2d_5 (Conv2D)           (None, 64, 64, 128)       73856     \n",
            "                                                                 \n",
            " max_pooling2d_5 (MaxPooling  (None, 32, 32, 128)      0         \n",
            " 2D)                                                             \n",
            "                                                                 \n",
            " batch_normalization_4 (Batc  (None, 32, 32, 128)      512       \n",
            " hNormalization)                                                 \n",
            "                                                                 \n",
            " dropout_7 (Dropout)         (None, 32, 32, 128)       0         \n",
            "                                                                 \n",
            " conv2d_6 (Conv2D)           (None, 32, 32, 256)       295168    \n",
            "                                                                 \n",
            " max_pooling2d_6 (MaxPooling  (None, 16, 16, 256)      0         \n",
            " 2D)                                                             \n",
            "                                                                 \n",
            " batch_normalization_5 (Batc  (None, 16, 16, 256)      1024      \n",
            " hNormalization)                                                 \n",
            "                                                                 \n",
            " flatten_2 (Flatten)         (None, 65536)             0         \n",
            "                                                                 \n",
            " dropout_8 (Dropout)         (None, 65536)             0         \n",
            "                                                                 \n",
            " dense_8 (Dense)             (None, 512)               33554944  \n",
            "                                                                 \n",
            " dropout_9 (Dropout)         (None, 512)               0         \n",
            "                                                                 \n",
            " dense_9 (Dense)             (None, 256)               131328    \n",
            "                                                                 \n",
            " dropout_10 (Dropout)        (None, 256)               0         \n",
            "                                                                 \n",
            " dense_10 (Dense)            (None, 128)               32896     \n",
            "                                                                 \n",
            " dense_11 (Dense)            (None, 1)                 129       \n",
            "                                                                 \n",
            "=================================================================\n",
            "Total params: 34,091,905\n",
            "Trainable params: 34,091,009\n",
            "Non-trainable params: 896\n",
            "_________________________________________________________________\n"
          ]
        }
      ]
    },
    {
      "cell_type": "code",
      "source": [
        "X_img = np.arange(256).reshape(4,4,4,4)\n",
        "preprocess, augment= {}, {}\n",
        "train_gen = preprocessing.image.ImageDataGenerator(**preprocess, **augment)\n",
        "train_gen.fit(X_img) "
      ],
      "metadata": {
        "id": "GNYi_lUYPYyU"
      },
      "execution_count": null,
      "outputs": []
    },
    {
      "cell_type": "code",
      "source": [
        "print(train_gen)"
      ],
      "metadata": {
        "colab": {
          "base_uri": "https://localhost:8080/"
        },
        "id": "g8fa_6togajA",
        "outputId": "37f062ab-cb3a-43c0-994b-866f66b7da28"
      },
      "execution_count": null,
      "outputs": [
        {
          "output_type": "stream",
          "name": "stdout",
          "text": [
            "<keras.preprocessing.image.ImageDataGenerator object at 0x7f7b28db5410>\n"
          ]
        }
      ]
    },
    {
      "cell_type": "code",
      "source": [
        ""
      ],
      "metadata": {
        "id": "4WJClV5xgcLP"
      },
      "execution_count": null,
      "outputs": []
    }
  ],
  "metadata": {
    "accelerator": "GPU",
    "colab": {
      "name": "pawl_patrol_Joram_II.ipynb",
      "provenance": [],
      "collapsed_sections": []
    },
    "kernelspec": {
      "display_name": "Python 3",
      "name": "python3"
    },
    "language_info": {
      "name": "python"
    }
  },
  "nbformat": 4,
  "nbformat_minor": 0
}
