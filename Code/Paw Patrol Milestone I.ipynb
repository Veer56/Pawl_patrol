{
 "cells": [
  {
   "cell_type": "markdown",
   "id": "c8ac239e",
   "metadata": {},
   "source": [
    "## Preparing the data"
   ]
  },
  {
   "cell_type": "code",
   "execution_count": 1,
   "id": "0bfdcf9e",
   "metadata": {},
   "outputs": [],
   "source": [
    "import os\n",
    "import cv2\n",
    "import numpy as np\n",
    "import pandas as pd\n",
    "from sklearn.model_selection import train_test_split\n"
   ]
  },
  {
   "cell_type": "code",
   "execution_count": 2,
   "id": "2fc25e50",
   "metadata": {},
   "outputs": [
    {
     "data": {
      "text/html": [
       "<div>\n",
       "<style scoped>\n",
       "    .dataframe tbody tr th:only-of-type {\n",
       "        vertical-align: middle;\n",
       "    }\n",
       "\n",
       "    .dataframe tbody tr th {\n",
       "        vertical-align: top;\n",
       "    }\n",
       "\n",
       "    .dataframe thead th {\n",
       "        text-align: right;\n",
       "    }\n",
       "</style>\n",
       "<table border=\"1\" class=\"dataframe\">\n",
       "  <thead>\n",
       "    <tr style=\"text-align: right;\">\n",
       "      <th></th>\n",
       "      <th>Id</th>\n",
       "      <th>Subject Focus</th>\n",
       "      <th>Eyes</th>\n",
       "      <th>Face</th>\n",
       "      <th>Near</th>\n",
       "      <th>Action</th>\n",
       "      <th>Accessory</th>\n",
       "      <th>Group</th>\n",
       "      <th>Collage</th>\n",
       "      <th>Human</th>\n",
       "      <th>Occlusion</th>\n",
       "      <th>Info</th>\n",
       "      <th>Blur</th>\n",
       "      <th>Pawpularity</th>\n",
       "    </tr>\n",
       "  </thead>\n",
       "  <tbody>\n",
       "    <tr>\n",
       "      <th>0</th>\n",
       "      <td>0007de18844b0dbbb5e1f607da0606e0</td>\n",
       "      <td>0</td>\n",
       "      <td>1</td>\n",
       "      <td>1</td>\n",
       "      <td>1</td>\n",
       "      <td>0</td>\n",
       "      <td>0</td>\n",
       "      <td>1</td>\n",
       "      <td>0</td>\n",
       "      <td>0</td>\n",
       "      <td>0</td>\n",
       "      <td>0</td>\n",
       "      <td>0</td>\n",
       "      <td>63</td>\n",
       "    </tr>\n",
       "    <tr>\n",
       "      <th>1</th>\n",
       "      <td>0009c66b9439883ba2750fb825e1d7db</td>\n",
       "      <td>0</td>\n",
       "      <td>1</td>\n",
       "      <td>1</td>\n",
       "      <td>0</td>\n",
       "      <td>0</td>\n",
       "      <td>0</td>\n",
       "      <td>0</td>\n",
       "      <td>0</td>\n",
       "      <td>0</td>\n",
       "      <td>0</td>\n",
       "      <td>0</td>\n",
       "      <td>0</td>\n",
       "      <td>42</td>\n",
       "    </tr>\n",
       "    <tr>\n",
       "      <th>2</th>\n",
       "      <td>0013fd999caf9a3efe1352ca1b0d937e</td>\n",
       "      <td>0</td>\n",
       "      <td>1</td>\n",
       "      <td>1</td>\n",
       "      <td>1</td>\n",
       "      <td>0</td>\n",
       "      <td>0</td>\n",
       "      <td>0</td>\n",
       "      <td>0</td>\n",
       "      <td>1</td>\n",
       "      <td>1</td>\n",
       "      <td>0</td>\n",
       "      <td>0</td>\n",
       "      <td>28</td>\n",
       "    </tr>\n",
       "    <tr>\n",
       "      <th>3</th>\n",
       "      <td>0018df346ac9c1d8413cfcc888ca8246</td>\n",
       "      <td>0</td>\n",
       "      <td>1</td>\n",
       "      <td>1</td>\n",
       "      <td>1</td>\n",
       "      <td>0</td>\n",
       "      <td>0</td>\n",
       "      <td>0</td>\n",
       "      <td>0</td>\n",
       "      <td>0</td>\n",
       "      <td>0</td>\n",
       "      <td>0</td>\n",
       "      <td>0</td>\n",
       "      <td>15</td>\n",
       "    </tr>\n",
       "    <tr>\n",
       "      <th>4</th>\n",
       "      <td>001dc955e10590d3ca4673f034feeef2</td>\n",
       "      <td>0</td>\n",
       "      <td>0</td>\n",
       "      <td>0</td>\n",
       "      <td>1</td>\n",
       "      <td>0</td>\n",
       "      <td>0</td>\n",
       "      <td>1</td>\n",
       "      <td>0</td>\n",
       "      <td>0</td>\n",
       "      <td>0</td>\n",
       "      <td>0</td>\n",
       "      <td>0</td>\n",
       "      <td>72</td>\n",
       "    </tr>\n",
       "  </tbody>\n",
       "</table>\n",
       "</div>"
      ],
      "text/plain": [
       "                                 Id  Subject Focus  Eyes  Face  Near  Action  \\\n",
       "0  0007de18844b0dbbb5e1f607da0606e0              0     1     1     1       0   \n",
       "1  0009c66b9439883ba2750fb825e1d7db              0     1     1     0       0   \n",
       "2  0013fd999caf9a3efe1352ca1b0d937e              0     1     1     1       0   \n",
       "3  0018df346ac9c1d8413cfcc888ca8246              0     1     1     1       0   \n",
       "4  001dc955e10590d3ca4673f034feeef2              0     0     0     1       0   \n",
       "\n",
       "   Accessory  Group  Collage  Human  Occlusion  Info  Blur  Pawpularity  \n",
       "0          0      1        0      0          0     0     0           63  \n",
       "1          0      0        0      0          0     0     0           42  \n",
       "2          0      0        0      1          1     0     0           28  \n",
       "3          0      0        0      0          0     0     0           15  \n",
       "4          0      1        0      0          0     0     0           72  "
      ]
     },
     "metadata": {},
     "output_type": "display_data"
    }
   ],
   "source": [
    "os.chdir(\"C:\\\\Users\\\\brian\\\\Desktop\\\\minor\\\\AI project\\\\model\")\n",
    "train_data = pd.read_csv('petfinder-pawpularity-score/train.csv')\n",
    "train_data['Pawpularity'] = train_data['Pawpularity']\n",
    "display(train_data.head(5))"
   ]
  },
  {
   "cell_type": "code",
   "execution_count": 11,
   "id": "8ffa9bd3",
   "metadata": {},
   "outputs": [
    {
     "ename": "KeyboardInterrupt",
     "evalue": "",
     "output_type": "error",
     "traceback": [
      "\u001b[1;31m---------------------------------------------------------------------------\u001b[0m",
      "\u001b[1;31mKeyboardInterrupt\u001b[0m                         Traceback (most recent call last)",
      "\u001b[1;32m<ipython-input-11-2ccdf8b90f7d>\u001b[0m in \u001b[0;36m<module>\u001b[1;34m\u001b[0m\n\u001b[0;32m     12\u001b[0m     \u001b[1;32mreturn\u001b[0m \u001b[0mnp\u001b[0m\u001b[1;33m.\u001b[0m\u001b[0marray\u001b[0m\u001b[1;33m(\u001b[0m\u001b[0mimages\u001b[0m\u001b[1;33m)\u001b[0m\u001b[1;33m,\u001b[0m \u001b[0mlabels\u001b[0m\u001b[1;33m,\u001b[0m \u001b[0mnames\u001b[0m\u001b[1;33m\u001b[0m\u001b[1;33m\u001b[0m\u001b[0m\n\u001b[0;32m     13\u001b[0m \u001b[1;33m\u001b[0m\u001b[0m\n\u001b[1;32m---> 14\u001b[1;33m \u001b[0mimage_images\u001b[0m\u001b[1;33m,\u001b[0m \u001b[0mimage_labels\u001b[0m\u001b[1;33m,\u001b[0m \u001b[0mimage_names\u001b[0m \u001b[1;33m=\u001b[0m \u001b[0mload_images_from_folder\u001b[0m\u001b[1;33m(\u001b[0m\u001b[1;34m'petfinder-pawpularity-score/train'\u001b[0m\u001b[1;33m,\u001b[0m \u001b[0mdata\u001b[0m \u001b[1;33m=\u001b[0m \u001b[0mtrain_data\u001b[0m\u001b[1;33m)\u001b[0m\u001b[1;33m\u001b[0m\u001b[1;33m\u001b[0m\u001b[0m\n\u001b[0m\u001b[0;32m     15\u001b[0m \u001b[1;33m\u001b[0m\u001b[0m\n\u001b[0;32m     16\u001b[0m \u001b[0mprint\u001b[0m\u001b[1;33m(\u001b[0m\u001b[1;34mf'Training labels loaded: {image_images.shape}'\u001b[0m\u001b[1;33m)\u001b[0m\u001b[1;33m\u001b[0m\u001b[1;33m\u001b[0m\u001b[0m\n",
      "\u001b[1;32m<ipython-input-11-2ccdf8b90f7d>\u001b[0m in \u001b[0;36mload_images_from_folder\u001b[1;34m(folder, data, size)\u001b[0m\n\u001b[0;32m      7\u001b[0m         \u001b[0mnames\u001b[0m\u001b[1;33m.\u001b[0m\u001b[0mappend\u001b[0m\u001b[1;33m(\u001b[0m\u001b[0mname\u001b[0m\u001b[1;33m)\u001b[0m\u001b[1;33m\u001b[0m\u001b[1;33m\u001b[0m\u001b[0m\n\u001b[0;32m      8\u001b[0m         \u001b[0mlabels\u001b[0m\u001b[1;33m.\u001b[0m\u001b[0mappend\u001b[0m\u001b[1;33m(\u001b[0m\u001b[0mdata\u001b[0m\u001b[1;33m.\u001b[0m\u001b[0mloc\u001b[0m\u001b[1;33m[\u001b[0m\u001b[0mdata\u001b[0m\u001b[1;33m[\u001b[0m\u001b[1;34m'Id'\u001b[0m\u001b[1;33m]\u001b[0m\u001b[1;33m==\u001b[0m \u001b[0mname\u001b[0m\u001b[1;33m]\u001b[0m\u001b[1;33m[\u001b[0m\u001b[1;34m'Pawpularity'\u001b[0m\u001b[1;33m]\u001b[0m\u001b[1;33m.\u001b[0m\u001b[0mitem\u001b[0m\u001b[1;33m(\u001b[0m\u001b[1;33m)\u001b[0m\u001b[1;33m)\u001b[0m\u001b[1;33m\u001b[0m\u001b[1;33m\u001b[0m\u001b[0m\n\u001b[1;32m----> 9\u001b[1;33m         \u001b[0mimg\u001b[0m \u001b[1;33m=\u001b[0m \u001b[0mcv2\u001b[0m\u001b[1;33m.\u001b[0m\u001b[0mresize\u001b[0m\u001b[1;33m(\u001b[0m\u001b[0mcv2\u001b[0m\u001b[1;33m.\u001b[0m\u001b[0mimread\u001b[0m\u001b[1;33m(\u001b[0m\u001b[0mos\u001b[0m\u001b[1;33m.\u001b[0m\u001b[0mpath\u001b[0m\u001b[1;33m.\u001b[0m\u001b[0mjoin\u001b[0m\u001b[1;33m(\u001b[0m\u001b[0mfolder\u001b[0m\u001b[1;33m,\u001b[0m\u001b[0mfilename\u001b[0m\u001b[1;33m)\u001b[0m\u001b[1;33m)\u001b[0m\u001b[1;33m,\u001b[0m \u001b[1;33m(\u001b[0m\u001b[0msize\u001b[0m\u001b[1;33m,\u001b[0m \u001b[0msize\u001b[0m\u001b[1;33m)\u001b[0m\u001b[1;33m)\u001b[0m\u001b[1;33m\u001b[0m\u001b[1;33m\u001b[0m\u001b[0m\n\u001b[0m\u001b[0;32m     10\u001b[0m         \u001b[1;32mif\u001b[0m \u001b[0mimg\u001b[0m \u001b[1;32mis\u001b[0m \u001b[1;32mnot\u001b[0m \u001b[1;32mNone\u001b[0m\u001b[1;33m:\u001b[0m\u001b[1;33m\u001b[0m\u001b[1;33m\u001b[0m\u001b[0m\n\u001b[0;32m     11\u001b[0m             \u001b[0mimages\u001b[0m\u001b[1;33m.\u001b[0m\u001b[0mappend\u001b[0m\u001b[1;33m(\u001b[0m\u001b[0mimg\u001b[0m\u001b[1;33m)\u001b[0m\u001b[1;33m\u001b[0m\u001b[1;33m\u001b[0m\u001b[0m\n",
      "\u001b[1;31mKeyboardInterrupt\u001b[0m: "
     ]
    }
   ],
   "source": [
    "def load_images_from_folder(folder, data = [], size=128):\n",
    "    images = []\n",
    "    labels = []\n",
    "    names = []\n",
    "    for filename in os.listdir(folder):\n",
    "        name = filename.strip('.jpg')\n",
    "        names.append(name)\n",
    "        labels.append(data.loc[data['Id']== name]['Pawpularity'].item())\n",
    "        img = cv2.resize(cv2.imread(os.path.join(folder,filename)), (size, size))\n",
    "        if img is not None:\n",
    "            images.append(img)\n",
    "    return np.array(images), labels, names\n",
    "\n",
    "image_images, image_labels, image_names = load_images_from_folder('petfinder-pawpularity-score/train', data = train_data)\n",
    "\n",
    "print(f'Training labels loaded: {image_images.shape}')"
   ]
  },
  {
   "cell_type": "code",
   "execution_count": 4,
   "id": "b1b7e2c6",
   "metadata": {},
   "outputs": [],
   "source": [
    "image_train, image_test, label_train, label_test, name_train, name_test = train_test_split(image_images, image_labels, image_names, test_size=0.33, random_state=42)"
   ]
  },
  {
   "cell_type": "code",
   "execution_count": 5,
   "id": "e390a211",
   "metadata": {},
   "outputs": [
    {
     "name": "stdout",
     "output_type": "stream",
     "text": [
      "11\n",
      "7dd949718a6e4b136ac2322bf35f3c4d\n"
     ]
    }
   ],
   "source": [
    "print(label_train[1])\n",
    "print(name_train[1])"
   ]
  },
  {
   "cell_type": "markdown",
   "id": "e5a74cc1",
   "metadata": {},
   "source": [
    "## Making the model"
   ]
  },
  {
   "cell_type": "code",
   "execution_count": 6,
   "id": "02a57b64",
   "metadata": {},
   "outputs": [],
   "source": [
    "from tensorflow.keras.utils import to_categorical\n",
    "import matplotlib.pyplot as plt\n",
    "from tensorflow.keras import layers, models, preprocessing\n",
    "import tensorflow as tf"
   ]
  },
  {
   "cell_type": "code",
   "execution_count": 7,
   "id": "b276821f",
   "metadata": {},
   "outputs": [],
   "source": [
    "def train_and_evaluate(model, train_x, train_y, val_x, val_y, preprocess={}, epochs=20, augment={}):\n",
    "    ''' Make the model to train and evaluate the data'''\n",
    "\n",
    "    model.compile(optimizer='adam',\n",
    "              loss=tf.keras.losses.MeanSquaredError(),\n",
    "              metrics=['RootMeanSquaredError'])\n",
    "\n",
    "    train_gen = preprocessing.image.ImageDataGenerator(preprocess, augment)\n",
    "    train_gen.fit(train_x) \n",
    "\n",
    "    val_gen = preprocessing.image.ImageDataGenerator(**preprocess)\n",
    "    val_gen.fit(train_x)\n",
    "\n",
    "    history = model.fit(train_gen.flow(train_x, train_y), epochs=epochs, \n",
    "                        validation_data=val_gen.flow(val_x, val_y))\n",
    "\n",
    "    fig, axs = plt.subplots(1,2,figsize=(20,5)) \n",
    "\n",
    "    for i, metric in enumerate(['loss', 'RootMeanSquaredError']):\n",
    "        axs[i].plot(history.history[metric])\n",
    "        axs[i].plot(history.history['val_'+metric])\n",
    "        axs[i].legend(['training', 'validation'], loc='best')\n",
    "\n",
    "        axs[i].set_title('Model '+metric)\n",
    "        axs[i].set_ylabel(metric)\n",
    "        axs[i].set_xlabel('epoch')\n",
    "\n",
    "    plt.show()\n",
    "\n",
    "    print(f\"Validation Accuracy: {model.evaluate(val_gen.flow(val_x, val_y))[1]}\")"
   ]
  },
  {
   "cell_type": "code",
   "execution_count": 8,
   "id": "6fc178fd",
   "metadata": {},
   "outputs": [
    {
     "name": "stdout",
     "output_type": "stream",
     "text": [
      "WARNING:tensorflow:sample_weight modes were coerced from\n",
      "  ...\n",
      "    to  \n",
      "  ['...']\n",
      "WARNING:tensorflow:sample_weight modes were coerced from\n",
      "  ...\n",
      "    to  \n",
      "  ['...']\n",
      "Train for 208 steps, validate for 103 steps\n",
      "Epoch 1/20\n",
      "208/208 [==============================] - 11s 52ms/step - loss: 1184725.7322 - RootMeanSquaredError: 1089.5809 - val_loss: 1123.1057 - val_RootMeanSquaredError: 33.4859\n",
      "Epoch 2/20\n",
      "208/208 [==============================] - 9s 44ms/step - loss: 2784.3670 - RootMeanSquaredError: 52.7653 - val_loss: 614.0798 - val_RootMeanSquaredError: 24.7144\n",
      "Epoch 3/20\n",
      "208/208 [==============================] - 9s 45ms/step - loss: 1651.5573 - RootMeanSquaredError: 40.5656 - val_loss: 513.7929 - val_RootMeanSquaredError: 22.6022\n",
      "Epoch 4/20\n",
      "208/208 [==============================] - 9s 44ms/step - loss: 1211.0659 - RootMeanSquaredError: 34.7974 - val_loss: 885.6277 - val_RootMeanSquaredError: 29.7218\n",
      "Epoch 5/20\n",
      "208/208 [==============================] - 9s 44ms/step - loss: 940.6489 - RootMeanSquaredError: 30.6520 - val_loss: 1187.1764 - val_RootMeanSquaredError: 34.3804\n",
      "Epoch 6/20\n",
      "208/208 [==============================] - 9s 44ms/step - loss: 642.3727 - RootMeanSquaredError: 25.3484 - val_loss: 744.4815 - val_RootMeanSquaredError: 27.2098\n",
      "Epoch 7/20\n",
      "208/208 [==============================] - 9s 44ms/step - loss: 546.9867 - RootMeanSquaredError: 23.3611 - val_loss: 931.5777 - val_RootMeanSquaredError: 30.4478\n",
      "Epoch 8/20\n",
      "208/208 [==============================] - 9s 44ms/step - loss: 554.4062 - RootMeanSquaredError: 23.5471 - val_loss: 601.9956 - val_RootMeanSquaredError: 24.4545\n",
      "Epoch 9/20\n",
      "208/208 [==============================] - 9s 44ms/step - loss: 689.2699 - RootMeanSquaredError: 26.2578 - val_loss: 511.5033 - val_RootMeanSquaredError: 22.5651\n",
      "Epoch 10/20\n",
      "208/208 [==============================] - 9s 44ms/step - loss: 476.5440 - RootMeanSquaredError: 21.8218 - val_loss: 646.2023 - val_RootMeanSquaredError: 25.3721\n",
      "Epoch 11/20\n",
      "208/208 [==============================] - 9s 44ms/step - loss: 451.1251 - RootMeanSquaredError: 21.2425 - val_loss: 513.3046 - val_RootMeanSquaredError: 22.5978\n",
      "Epoch 12/20\n",
      "208/208 [==============================] - 9s 44ms/step - loss: 357.4195 - RootMeanSquaredError: 18.9087 - val_loss: 534.1218 - val_RootMeanSquaredError: 23.0563\n",
      "Epoch 13/20\n",
      "208/208 [==============================] - 9s 44ms/step - loss: 390.9340 - RootMeanSquaredError: 19.7795 - val_loss: 534.4016 - val_RootMeanSquaredError: 23.0735\n",
      "Epoch 14/20\n",
      "208/208 [==============================] - 9s 44ms/step - loss: 511.9954 - RootMeanSquaredError: 22.6334 - val_loss: 530.2489 - val_RootMeanSquaredError: 22.9687\n",
      "Epoch 15/20\n",
      "208/208 [==============================] - 9s 44ms/step - loss: 392.6024 - RootMeanSquaredError: 19.8240 - val_loss: 562.2737 - val_RootMeanSquaredError: 23.6781\n",
      "Epoch 16/20\n",
      "208/208 [==============================] - 9s 44ms/step - loss: 314.4909 - RootMeanSquaredError: 17.7303 - val_loss: 531.6081 - val_RootMeanSquaredError: 23.0066\n",
      "Epoch 17/20\n",
      "208/208 [==============================] - 9s 45ms/step - loss: 344.1717 - RootMeanSquaredError: 18.5617 - val_loss: 522.9506 - val_RootMeanSquaredError: 22.7956\n",
      "Epoch 18/20\n",
      "208/208 [==============================] - 9s 45ms/step - loss: 348.6808 - RootMeanSquaredError: 18.6866 - val_loss: 535.6337 - val_RootMeanSquaredError: 23.0543\n",
      "Epoch 19/20\n",
      "208/208 [==============================] - 9s 45ms/step - loss: 329.5753 - RootMeanSquaredError: 18.1650 - val_loss: 567.0973 - val_RootMeanSquaredError: 23.7672\n",
      "Epoch 20/20\n",
      "208/208 [==============================] - 9s 45ms/step - loss: 301.8230 - RootMeanSquaredError: 17.3730 - val_loss: 562.1012 - val_RootMeanSquaredError: 23.6701\n"
     ]
    },
    {
     "data": {
      "image/png": "[encoded data removed]",
      "text/plain": [
       "<Figure size 1440x360 with 2 Axes>"
      ]
     },
     "metadata": {
      "needs_background": "light"
     },
     "output_type": "display_data"
    },
    {
     "name": "stdout",
     "output_type": "stream",
     "text": [
      "WARNING:tensorflow:sample_weight modes were coerced from\n",
      "  ...\n",
      "    to  \n",
      "  ['...']\n",
      "103/103 [==============================] - 1s 8ms/step - loss: 557.5319 - RootMeanSquaredError: 23.6701\n",
      "Validation Accuracy: 23.67011070251465\n"
     ]
    }
   ],
   "source": [
    "model=tf.keras.Sequential()\n",
    "model.add(tf.keras.layers.Conv2D(64,(3,3),activation='relu',input_shape=(128,128,3),padding='same'))\n",
    "model.add(tf.keras.layers.MaxPool2D((2,2)))\n",
    "model.add(tf.keras.layers.Flatten())\n",
    "model.add(tf.keras.layers.Dense(512,activation='relu'))\n",
    "model.add(tf.keras.layers.Dropout(0.1))\n",
    "model.add(tf.keras.layers.Dense(256,activation='relu'))\n",
    "model.add(tf.keras.layers.Dense(128,activation='relu'))\n",
    "model.add(tf.keras.layers.Dense(1,activation=None))\n",
    "\n",
    "# train the model and evaluate it with the test_data\n",
    "train_and_evaluate(model, image_train, label_train, image_test, label_test, epochs=20)"
   ]
  },
  {
   "cell_type": "code",
   "execution_count": 9,
   "id": "e3618b41",
   "metadata": {},
   "outputs": [],
   "source": [
    "test_images = []\n",
    "\n",
    "test_names = []\n",
    "for filename in os.listdir('petfinder-pawpularity-score/test'):\n",
    "    name = filename.strip('.jpg')\n",
    "    test_names.append(name)\n",
    "    img = cv2.imread(os.path.join('petfinder-pawpularity-score/test',filename))\n",
    "    if img is not None:\n",
    "        test_images.append(img)"
   ]
  },
  {
   "cell_type": "code",
   "execution_count": 10,
   "id": "f3be3f88",
   "metadata": {
    "scrolled": true
   },
   "outputs": [
    {
     "data": {
      "text/plain": [
       "array([[71.59759 ],\n",
       "       [75.476135],\n",
       "       [70.961464],\n",
       "       [64.8789  ],\n",
       "       [67.95618 ],\n",
       "       [54.87404 ],\n",
       "       [70.4556  ],\n",
       "       [63.27196 ]], dtype=float32)"
      ]
     },
     "execution_count": 10,
     "metadata": {},
     "output_type": "execute_result"
    }
   ],
   "source": [
    "test_images = np.array(test_images)\n",
    "model.predict(test_images)"
   ]
  },
  {
   "cell_type": "code",
   "execution_count": null,
   "id": "4a7f1c1a",
   "metadata": {},
   "outputs": [],
   "source": []
  }
 ],
 "metadata": {
  "kernelspec": {
   "display_name": "Python 3",
   "language": "python",
   "name": "python3"
  },
  "language_info": {
   "codemirror_mode": {
    "name": "ipython",
    "version": 3
   },
   "file_extension": ".py",
   "mimetype": "text/x-python",
   "name": "python",
   "nbconvert_exporter": "python",
   "pygments_lexer": "ipython3",
   "version": "3.6.13"
  }
 },
 "nbformat": 4,
 "nbformat_minor": 5
}
