{
 "cells": [
  {
   "cell_type": "markdown",
   "id": "c8ac239e",
   "metadata": {},
   "source": [
    "## Preparing the data"
   ]
  },
  {
   "cell_type": "code",
   "execution_count": 1,
   "id": "0bfdcf9e",
   "metadata": {},
   "outputs": [],
   "source": [
    "import os\n",
    "import cv2\n",
    "import numpy as np\n",
    "import pandas as pd\n",
    "from sklearn.model_selection import train_test_split"
   ]
  },
  {
   "cell_type": "code",
   "execution_count": 2,
   "id": "2fc25e50",
   "metadata": {},
   "outputs": [
    {
     "data": {
      "text/html": [
       "<div>\n",
       "<style scoped>\n",
       "    .dataframe tbody tr th:only-of-type {\n",
       "        vertical-align: middle;\n",
       "    }\n",
       "\n",
       "    .dataframe tbody tr th {\n",
       "        vertical-align: top;\n",
       "    }\n",
       "\n",
       "    .dataframe thead th {\n",
       "        text-align: right;\n",
       "    }\n",
       "</style>\n",
       "<table border=\"1\" class=\"dataframe\">\n",
       "  <thead>\n",
       "    <tr style=\"text-align: right;\">\n",
       "      <th></th>\n",
       "      <th>Id</th>\n",
       "      <th>Subject Focus</th>\n",
       "      <th>Eyes</th>\n",
       "      <th>Face</th>\n",
       "      <th>Near</th>\n",
       "      <th>Action</th>\n",
       "      <th>Accessory</th>\n",
       "      <th>Group</th>\n",
       "      <th>Collage</th>\n",
       "      <th>Human</th>\n",
       "      <th>Occlusion</th>\n",
       "      <th>Info</th>\n",
       "      <th>Blur</th>\n",
       "      <th>Pawpularity</th>\n",
       "    </tr>\n",
       "  </thead>\n",
       "  <tbody>\n",
       "    <tr>\n",
       "      <th>0</th>\n",
       "      <td>0007de18844b0dbbb5e1f607da0606e0</td>\n",
       "      <td>0</td>\n",
       "      <td>1</td>\n",
       "      <td>1</td>\n",
       "      <td>1</td>\n",
       "      <td>0</td>\n",
       "      <td>0</td>\n",
       "      <td>1</td>\n",
       "      <td>0</td>\n",
       "      <td>0</td>\n",
       "      <td>0</td>\n",
       "      <td>0</td>\n",
       "      <td>0</td>\n",
       "      <td>63</td>\n",
       "    </tr>\n",
       "    <tr>\n",
       "      <th>1</th>\n",
       "      <td>0009c66b9439883ba2750fb825e1d7db</td>\n",
       "      <td>0</td>\n",
       "      <td>1</td>\n",
       "      <td>1</td>\n",
       "      <td>0</td>\n",
       "      <td>0</td>\n",
       "      <td>0</td>\n",
       "      <td>0</td>\n",
       "      <td>0</td>\n",
       "      <td>0</td>\n",
       "      <td>0</td>\n",
       "      <td>0</td>\n",
       "      <td>0</td>\n",
       "      <td>42</td>\n",
       "    </tr>\n",
       "    <tr>\n",
       "      <th>2</th>\n",
       "      <td>0013fd999caf9a3efe1352ca1b0d937e</td>\n",
       "      <td>0</td>\n",
       "      <td>1</td>\n",
       "      <td>1</td>\n",
       "      <td>1</td>\n",
       "      <td>0</td>\n",
       "      <td>0</td>\n",
       "      <td>0</td>\n",
       "      <td>0</td>\n",
       "      <td>1</td>\n",
       "      <td>1</td>\n",
       "      <td>0</td>\n",
       "      <td>0</td>\n",
       "      <td>28</td>\n",
       "    </tr>\n",
       "    <tr>\n",
       "      <th>3</th>\n",
       "      <td>0018df346ac9c1d8413cfcc888ca8246</td>\n",
       "      <td>0</td>\n",
       "      <td>1</td>\n",
       "      <td>1</td>\n",
       "      <td>1</td>\n",
       "      <td>0</td>\n",
       "      <td>0</td>\n",
       "      <td>0</td>\n",
       "      <td>0</td>\n",
       "      <td>0</td>\n",
       "      <td>0</td>\n",
       "      <td>0</td>\n",
       "      <td>0</td>\n",
       "      <td>15</td>\n",
       "    </tr>\n",
       "    <tr>\n",
       "      <th>4</th>\n",
       "      <td>001dc955e10590d3ca4673f034feeef2</td>\n",
       "      <td>0</td>\n",
       "      <td>0</td>\n",
       "      <td>0</td>\n",
       "      <td>1</td>\n",
       "      <td>0</td>\n",
       "      <td>0</td>\n",
       "      <td>1</td>\n",
       "      <td>0</td>\n",
       "      <td>0</td>\n",
       "      <td>0</td>\n",
       "      <td>0</td>\n",
       "      <td>0</td>\n",
       "      <td>72</td>\n",
       "    </tr>\n",
       "  </tbody>\n",
       "</table>\n",
       "</div>"
      ],
      "text/plain": [
       "                                 Id  Subject Focus  Eyes  Face  Near  Action  \\\n",
       "0  0007de18844b0dbbb5e1f607da0606e0              0     1     1     1       0   \n",
       "1  0009c66b9439883ba2750fb825e1d7db              0     1     1     0       0   \n",
       "2  0013fd999caf9a3efe1352ca1b0d937e              0     1     1     1       0   \n",
       "3  0018df346ac9c1d8413cfcc888ca8246              0     1     1     1       0   \n",
       "4  001dc955e10590d3ca4673f034feeef2              0     0     0     1       0   \n",
       "\n",
       "   Accessory  Group  Collage  Human  Occlusion  Info  Blur  Pawpularity  \n",
       "0          0      1        0      0          0     0     0           63  \n",
       "1          0      0        0      0          0     0     0           42  \n",
       "2          0      0        0      1          1     0     0           28  \n",
       "3          0      0        0      0          0     0     0           15  \n",
       "4          0      1        0      0          0     0     0           72  "
      ]
     },
     "metadata": {},
     "output_type": "display_data"
    },
    {
     "name": "stdout",
     "output_type": "stream",
     "text": [
      "NaN amount: 0\n"
     ]
    }
   ],
   "source": [
    "# change working directory to model folder\n",
    "os.chdir(\"C:\\\\Users\\\\brian\\\\Desktop\\\\minor\\\\AI project\\\\model\")\n",
    "\n",
    "# save the data from the csv file and divide Pawpularity score by 100\n",
    "train_data = pd.read_csv('petfinder-pawpularity-score/train.csv')\n",
    "train_data['Pawpularity'] = train_data['Pawpularity']\n",
    "\n",
    "# check if the data was read correctly and if there are NaN values\n",
    "display(train_data.head(5))\n",
    "print(f'NaN amount: {train_data.isnull().sum().sum()}')"
   ]
  },
  {
   "cell_type": "code",
   "execution_count": 3,
   "id": "8ffa9bd3",
   "metadata": {},
   "outputs": [
    {
     "name": "stdout",
     "output_type": "stream",
     "text": [
      "Images loaded: (9912, 128, 128, 3)\n"
     ]
    }
   ],
   "source": [
    "def load_images_from_folder(folder, data = [], size=128):\n",
    "    \"\"\"\n",
    "    This function takes a folder in which the images are saved, a dataframe of tabular data and size.\n",
    "    It loads in an image finds the corresponding name and Pawpularity score and saves those so that they are ordered.\n",
    "    It returns an array of images, a list of labels and a list of names.\n",
    "    \"\"\"\n",
    "    # create empty lists for the data\n",
    "    images = []\n",
    "    labels = []\n",
    "    names = []\n",
    "    \n",
    "    # iterate over all images in the given folder\n",
    "    for filename in os.listdir(folder):\n",
    "        \n",
    "        # extract the name from the image\n",
    "        name = filename.strip('.jpg')\n",
    "        \n",
    "        # add the name to the list of names\n",
    "        names.append(name)\n",
    "        \n",
    "        # use the name to find the corresponding pawpularity score and add it to the list of scores\n",
    "        labels.append(data.loc[data['Id']== name]['Pawpularity'].item())\n",
    "        \n",
    "        # resize the image to the given size and add it to the list of images\n",
    "        img = cv2.resize(cv2.imread(os.path.join(folder,filename)), (size, size))\n",
    "        if img is not None:\n",
    "            images.append(img)\n",
    "            \n",
    "    # return the array of images and lists of labels and names\n",
    "    return np.array(images), labels, names\n",
    "\n",
    "data_images, data_labels, data_names = load_images_from_folder('petfinder-pawpularity-score/train', data = train_data)\n",
    "\n",
    "print(f'Images loaded: {data_images.shape}')"
   ]
  },
  {
   "cell_type": "code",
   "execution_count": 4,
   "id": "b1b7e2c6",
   "metadata": {},
   "outputs": [],
   "source": [
    "# split the data into 67% training data and 33% testing data\n",
    "image_train, image_test, label_train, label_test, name_train, name_test = train_test_split(data_images, data_labels, data_names, test_size=0.33, random_state=42)"
   ]
  },
  {
   "cell_type": "code",
   "execution_count": 5,
   "id": "f8c87fb8",
   "metadata": {},
   "outputs": [
    {
     "name": "stdout",
     "output_type": "stream",
     "text": [
      "checking training data: \n",
      "17\n",
      "1f7f000086edf5e4c0f5a8e4d93f157d\n"
     ]
    }
   ],
   "source": [
    "# check if the labels match the names of the images\n",
    "print('checking training data: ')\n",
    "print(label_train[0])\n",
    "print(name_train[0])"
   ]
  },
  {
   "cell_type": "markdown",
   "id": "e5a74cc1",
   "metadata": {},
   "source": [
    "## Making the image model"
   ]
  },
  {
   "cell_type": "code",
   "execution_count": 6,
   "id": "02a57b64",
   "metadata": {},
   "outputs": [],
   "source": [
    "from tensorflow.keras.utils import to_categorical\n",
    "import matplotlib.pyplot as plt\n",
    "from tensorflow.keras import layers, models, preprocessing, utils\n",
    "import tensorflow as tf"
   ]
  },
  {
   "cell_type": "code",
   "execution_count": 7,
   "id": "b276821f",
   "metadata": {},
   "outputs": [],
   "source": [
    "def train_and_evaluate(model, train_x, train_y, val_x, val_y, preprocess={}, epochs=20, augment={}):\n",
    "    ''' Make the model to train and evaluate the data'''\n",
    "\n",
    "    # compile the model using adam as optimizer with mean squared error as loss function\n",
    "    model.compile(optimizer='adam',\n",
    "              loss='MSE',\n",
    "              metrics=['RootMeanSquaredError'])\n",
    "\n",
    "    train_gen = preprocessing.image.ImageDataGenerator(preprocess, augment)\n",
    "    train_gen.fit(train_x) \n",
    "\n",
    "    val_gen = preprocessing.image.ImageDataGenerator(**preprocess)\n",
    "    val_gen.fit(train_x)\n",
    "\n",
    "    # estimate the model using the compile \n",
    "    history = model.fit(train_gen.flow(train_x, train_y), epochs=epochs, \n",
    "                        validation_data=val_gen.flow(val_x, val_y))\n",
    "\n",
    "    fig, axs = plt.subplots(1,2,figsize=(20,5)) \n",
    "\n",
    "    # plot the learning curves\n",
    "    for i, metric in enumerate(['loss', 'RootMeanSquaredError']):\n",
    "        axs[i].plot(history.history[metric])\n",
    "        axs[i].plot(history.history['val_'+metric])\n",
    "        axs[i].legend(['training', 'validation'], loc='best')\n",
    "\n",
    "        axs[i].set_title('Model '+metric)\n",
    "        axs[i].set_ylabel(metric)\n",
    "        axs[i].set_xlabel('epoch')\n",
    "\n",
    "    plt.show()\n",
    "\n",
    "    print(f\"Validation Accuracy: {model.evaluate(val_gen.flow(val_x, val_y))[1]}\")"
   ]
  },
  {
   "cell_type": "code",
   "execution_count": 8,
   "id": "6fc178fd",
   "metadata": {
    "scrolled": false
   },
   "outputs": [
    {
     "name": "stdout",
     "output_type": "stream",
     "text": [
      "WARNING:tensorflow:sample_weight modes were coerced from\n",
      "  ...\n",
      "    to  \n",
      "  ['...']\n",
      "WARNING:tensorflow:sample_weight modes were coerced from\n",
      "  ...\n",
      "    to  \n",
      "  ['...']\n",
      "Train for 208 steps, validate for 103 steps\n",
      "Epoch 1/16\n",
      "208/208 [==============================] - 15s 71ms/step - loss: 647.2159 - RootMeanSquaredError: 25.4264 - val_loss: 538.2803 - val_RootMeanSquaredError: 23.2262\n",
      "Epoch 2/16\n",
      "208/208 [==============================] - 10s 48ms/step - loss: 544.8410 - RootMeanSquaredError: 23.3197 - val_loss: 565.4615 - val_RootMeanSquaredError: 23.8065\n",
      "Epoch 3/16\n",
      "208/208 [==============================] - 10s 47ms/step - loss: 522.9258 - RootMeanSquaredError: 22.8507 - val_loss: 502.6220 - val_RootMeanSquaredError: 22.4427\n",
      "Epoch 4/16\n",
      "208/208 [==============================] - 10s 47ms/step - loss: 510.1361 - RootMeanSquaredError: 22.5646 - val_loss: 487.0733 - val_RootMeanSquaredError: 22.0919\n",
      "Epoch 5/16\n",
      "208/208 [==============================] - 10s 47ms/step - loss: 491.3446 - RootMeanSquaredError: 22.1563 - val_loss: 442.3769 - val_RootMeanSquaredError: 21.0441\n",
      "Epoch 6/16\n",
      "208/208 [==============================] - 10s 47ms/step - loss: 474.3888 - RootMeanSquaredError: 21.7702 - val_loss: 482.0237 - val_RootMeanSquaredError: 21.9767\n",
      "Epoch 7/16\n",
      "208/208 [==============================] - 10s 48ms/step - loss: 469.0352 - RootMeanSquaredError: 21.6375 - val_loss: 462.2355 - val_RootMeanSquaredError: 21.5186\n",
      "Epoch 8/16\n",
      "208/208 [==============================] - 10s 47ms/step - loss: 459.1679 - RootMeanSquaredError: 21.4065 - val_loss: 581.8394 - val_RootMeanSquaredError: 24.1489\n",
      "Epoch 9/16\n",
      "208/208 [==============================] - 10s 47ms/step - loss: 450.6871 - RootMeanSquaredError: 21.2215 - val_loss: 504.3095 - val_RootMeanSquaredError: 22.4803\n",
      "Epoch 10/16\n",
      "208/208 [==============================] - 10s 46ms/step - loss: 442.4418 - RootMeanSquaredError: 21.0193 - val_loss: 505.3703 - val_RootMeanSquaredError: 22.5042\n",
      "Epoch 11/16\n",
      "208/208 [==============================] - 10s 46ms/step - loss: 417.9673 - RootMeanSquaredError: 20.4286 - val_loss: 446.0028 - val_RootMeanSquaredError: 21.1337\n",
      "Epoch 12/16\n",
      "208/208 [==============================] - 10s 46ms/step - loss: 407.0619 - RootMeanSquaredError: 20.1315 - val_loss: 516.2400 - val_RootMeanSquaredError: 22.7452\n",
      "Epoch 13/16\n",
      "208/208 [==============================] - 10s 46ms/step - loss: 377.6458 - RootMeanSquaredError: 19.4333 - val_loss: 575.4538 - val_RootMeanSquaredError: 24.0161\n",
      "Epoch 14/16\n",
      "208/208 [==============================] - 10s 46ms/step - loss: 360.0355 - RootMeanSquaredError: 18.9494 - val_loss: 513.8528 - val_RootMeanSquaredError: 22.6926\n",
      "Epoch 15/16\n",
      "208/208 [==============================] - 10s 46ms/step - loss: 307.5337 - RootMeanSquaredError: 17.5458 - val_loss: 568.5281 - val_RootMeanSquaredError: 23.8708\n",
      "Epoch 16/16\n",
      "208/208 [==============================] - 10s 46ms/step - loss: 281.7617 - RootMeanSquaredError: 16.7822 - val_loss: 452.6827 - val_RootMeanSquaredError: 21.2937\n"
     ]
    },
    {
     "data": {
      "image/png": "[encoded data removed]",
      "text/plain": [
       "<Figure size 1440x360 with 2 Axes>"
      ]
     },
     "metadata": {
      "needs_background": "light"
     },
     "output_type": "display_data"
    },
    {
     "name": "stdout",
     "output_type": "stream",
     "text": [
      "WARNING:tensorflow:sample_weight modes were coerced from\n",
      "  ...\n",
      "    to  \n",
      "  ['...']\n",
      "103/103 [==============================] - 1s 13ms/step - loss: 450.4282 - RootMeanSquaredError: 21.2937\n",
      "Validation Accuracy: 21.293701171875\n"
     ]
    }
   ],
   "source": [
    "# create the CNN model by adding the layers\n",
    "model=tf.keras.Sequential()\n",
    "model.add(tf.keras.layers.Conv2D(64,(3,3),activation='relu',input_shape=(128,128,3),padding='same'))\n",
    "model.add(tf.keras.layers.MaxPool2D((2,2)))\n",
    "\n",
    "# second layer\n",
    "model.add(tf.keras.layers.Conv2D(128,(3,3),activation='relu',padding='same'))\n",
    "model.add(tf.keras.layers.MaxPool2D((2,2)))\n",
    "model.add(layers.BatchNormalization())\n",
    "\n",
    "# third layer\n",
    "model.add(tf.keras.layers.Conv2D(256,(3,3),activation='relu',padding='same'))\n",
    "model.add(tf.keras.layers.MaxPool2D((2,2)))\n",
    "model.add(layers.BatchNormalization())\n",
    "\n",
    "# fourth layer\n",
    "model.add(tf.keras.layers.Dropout(0.1))\n",
    "model.add(tf.keras.layers.Conv2D(512,(3,3),activation='relu',padding='same'))\n",
    "model.add(tf.keras.layers.MaxPool2D((2,2)))\n",
    "model.add(layers.BatchNormalization())\n",
    "\n",
    "\n",
    "model.add(tf.keras.layers.Flatten())\n",
    "\n",
    "model.add(tf.keras.layers.Dropout(0.4))\n",
    "model.add(tf.keras.layers.Dense(512,activation='relu'))\n",
    "\n",
    "model.add(tf.keras.layers.Dropout(0.4))\n",
    "model.add(tf.keras.layers.Dense(256,activation='relu'))\n",
    "\n",
    "model.add(tf.keras.layers.Dropout(0.4))\n",
    "model.add(tf.keras.layers.Dense(128,activation='relu'))\n",
    "\n",
    "model.add(tf.keras.layers.Dropout(0.4))\n",
    "model.add(tf.keras.layers.Dense(1,activation=None))\n",
    "\n",
    "preprocess = {'featurewise_center': True, 'featurewise_std_normalization' : True}\n",
    "\n",
    "# train the model and evaluate it with the test_data\n",
    "train_and_evaluate(model, image_train, label_train, image_test, label_test, preprocess, epochs=16)"
   ]
  },
  {
   "cell_type": "markdown",
   "id": "f86f5ead",
   "metadata": {},
   "source": [
    "This dataset is from a competition in which you have to estimate the 8 images below, these are our scores as of now."
   ]
  },
  {
   "cell_type": "code",
   "execution_count": 9,
   "id": "e3618b41",
   "metadata": {},
   "outputs": [],
   "source": [
    "test_images = []\n",
    "test_names = []\n",
    "\n",
    "# iterate over the test images\n",
    "for filename in os.listdir('petfinder-pawpularity-score/test'):\n",
    "    \n",
    "    # get the names of the test images and save these in the list\n",
    "    name = filename.strip('.jpg')\n",
    "    test_names.append(name)\n",
    "    \n",
    "    # save the images \n",
    "    img = cv2.imread(os.path.join('petfinder-pawpularity-score/test',filename))\n",
    "    if img is not None:\n",
    "        test_images.append(img)"
   ]
  },
  {
   "cell_type": "code",
   "execution_count": 10,
   "id": "f3be3f88",
   "metadata": {
    "scrolled": true
   },
   "outputs": [
    {
     "data": {
      "text/plain": [
       "array([[34.538834],\n",
       "       [36.815617],\n",
       "       [35.75768 ],\n",
       "       [34.47796 ],\n",
       "       [34.48319 ],\n",
       "       [34.97082 ],\n",
       "       [34.463966],\n",
       "       [35.433342]], dtype=float32)"
      ]
     },
     "execution_count": 10,
     "metadata": {},
     "output_type": "execute_result"
    }
   ],
   "source": [
    "# convert the list of images to an array\n",
    "test_images = np.array(test_images)\n",
    "\n",
    "# use the model to predict the pawpularity scores of the test images\n",
    "model.predict(test_images)"
   ]
  },
  {
   "cell_type": "code",
   "execution_count": null,
   "id": "0bb114b1",
   "metadata": {},
   "outputs": [],
   "source": []
  }
 ],
 "metadata": {
  "kernelspec": {
   "display_name": "Python 3",
   "language": "python",
   "name": "python3"
  },
  "language_info": {
   "codemirror_mode": {
    "name": "ipython",
    "version": 3
   },
   "file_extension": ".py",
   "mimetype": "text/x-python",
   "name": "python",
   "nbconvert_exporter": "python",
   "pygments_lexer": "ipython3",
   "version": "3.6.13"
  }
 },
 "nbformat": 4,
 "nbformat_minor": 5
}
